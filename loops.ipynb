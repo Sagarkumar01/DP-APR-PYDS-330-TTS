{
 "cells": [
  {
   "cell_type": "code",
   "execution_count": 1,
   "metadata": {},
   "outputs": [
    {
     "name": "stdout",
     "output_type": "stream",
     "text": [
      "p\n",
      "y\n",
      "t\n",
      "h\n",
      "o\n",
      "n\n"
     ]
    }
   ],
   "source": [
    "x='python'\n",
    "for i in x:\n",
    "    print(i)"
   ]
  },
  {
   "cell_type": "code",
   "execution_count": 2,
   "metadata": {},
   "outputs": [
    {
     "name": "stdout",
     "output_type": "stream",
     "text": [
      "i am the best\n",
      "i am the best\n",
      "i am the best\n",
      "i am the best\n",
      "i am the best\n",
      "i am the best\n"
     ]
    }
   ],
   "source": [
    "for i in range(6):\n",
    "    print(\"i am the best\")"
   ]
  },
  {
   "cell_type": "code",
   "execution_count": 1,
   "metadata": {},
   "outputs": [
    {
     "name": "stdout",
     "output_type": "stream",
     "text": [
      "KGF|3\n",
      "DDLJ|4\n",
      "NARNIA|6\n",
      "GOT|3\n",
      "SPLITSVILLA|11\n",
      "TGVG|4\n",
      "JF|2\n",
      "GGYG|4\n"
     ]
    }
   ],
   "source": [
    "movies=['KGF','DDLJ','NARNIA','GOT','SPLITSVILLA','TGVG','JF','GGYG']\n",
    "for i in movies:\n",
    "\n",
    "    print(f'{i}|{len(i)}')\n",
    "    \n",
    "\n",
    "\n"
   ]
  },
  {
   "cell_type": "code",
   "execution_count": 6,
   "metadata": {},
   "outputs": [
    {
     "name": "stdout",
     "output_type": "stream",
     "text": [
      "gotgotgotgotgot\n",
      "gotgotgotgotgotgot\n",
      "gotgotgotgotgotgotgot\n",
      "gotgotgotgotgotgotgotgot\n",
      "gotgotgotgotgotgotgotgotgot\n",
      "gotgotgotgotgotgotgotgotgotgot\n",
      "gotgotgotgotgotgotgotgotgotgotgot\n",
      "gotgotgotgotgotgotgotgotgotgotgotgot\n",
      "gotgotgotgotgotgotgotgotgotgotgotgotgot\n",
      "gotgotgotgotgotgotgotgotgotgotgotgotgotgot\n",
      "gotgotgotgotgotgotgotgotgotgotgotgotgotgotgot\n",
      "gotgotgotgotgotgotgotgotgotgotgotgotgotgotgotgot\n",
      "gotgotgotgotgotgotgotgotgotgotgotgotgotgotgotgotgot\n",
      "gotgotgotgotgotgotgotgotgotgotgotgotgotgotgotgotgotgot\n",
      "gotgotgotgotgotgotgotgotgotgotgotgotgotgotgotgotgotgotgot\n",
      "gotgotgotgotgotgotgotgotgotgotgotgotgotgotgotgotgotgotgotgot\n",
      "gotgotgotgotgotgotgotgotgotgotgotgotgotgotgotgotgotgotgotgotgot\n",
      "gotgotgotgotgotgotgotgotgotgotgotgotgotgotgotgotgotgotgotgotgotgot\n",
      "gotgotgotgotgotgotgotgotgotgotgotgotgotgotgotgotgotgotgotgotgotgotgot\n",
      "gotgotgotgotgotgotgotgotgotgotgotgotgotgotgotgotgotgotgotgotgotgotgotgot\n",
      "gotgotgotgotgotgotgotgotgotgotgotgotgotgotgotgotgotgotgotgotgotgotgotgotgot\n",
      "gotgotgotgotgotgotgotgotgotgotgotgotgotgotgotgotgotgotgotgotgotgotgotgotgotgot\n",
      "gotgotgotgotgotgotgotgotgotgotgotgotgotgotgotgotgotgotgotgotgotgotgotgotgotgotgot\n",
      "gotgotgotgotgotgotgotgotgotgotgotgotgotgotgotgotgotgotgotgotgotgotgotgotgotgotgotgot\n",
      "gotgotgotgotgotgotgotgotgotgotgotgotgotgotgotgotgotgotgotgotgotgotgotgotgotgotgotgotgot\n",
      "gotgotgotgotgotgotgotgotgotgotgotgotgotgotgotgotgotgotgotgotgotgotgotgotgotgotgotgotgotgot\n",
      "gotgotgotgotgotgotgotgotgotgotgotgotgotgotgotgotgotgotgotgotgotgotgotgotgotgotgotgotgotgotgot\n",
      "gotgotgotgotgotgotgotgotgotgotgotgotgotgotgotgotgotgotgotgotgotgotgotgotgotgotgotgotgotgotgotgot\n",
      "gotgotgotgotgotgotgotgotgotgotgotgotgotgotgotgotgotgotgotgotgotgotgotgotgotgotgotgotgotgotgotgotgot\n",
      "gotgotgotgotgotgotgotgotgotgotgotgotgotgotgotgotgotgotgotgotgotgotgotgotgotgotgotgotgotgotgotgotgotgot\n",
      "gotgotgotgotgotgotgotgotgotgotgotgotgotgotgotgotgotgotgotgotgotgotgotgotgotgotgotgotgotgotgotgotgotgotgot\n",
      "gotgotgotgotgotgotgotgotgotgotgotgotgotgotgotgotgotgotgotgotgotgotgotgotgotgotgotgotgotgotgotgotgotgotgotgot\n",
      "gotgotgotgotgotgotgotgotgotgotgotgotgotgotgotgotgotgotgotgotgotgotgotgotgotgotgotgotgotgotgotgotgotgotgotgotgot\n",
      "gotgotgotgotgotgotgotgotgotgotgotgotgotgotgotgotgotgotgotgotgotgotgotgotgotgotgotgotgotgotgotgotgotgotgotgotgotgot\n",
      "gotgotgotgotgotgotgotgotgotgotgotgotgotgotgotgotgotgotgotgotgotgotgotgotgotgotgotgotgotgotgotgotgotgotgotgotgotgotgot\n",
      "gotgotgotgotgotgotgotgotgotgotgotgotgotgotgotgotgotgotgotgotgotgotgotgotgotgotgotgotgotgotgotgotgotgotgotgotgotgotgotgot\n",
      "gotgotgotgotgotgotgotgotgotgotgotgotgotgotgotgotgotgotgotgotgotgotgotgotgotgotgotgotgotgotgotgotgotgotgotgotgotgotgotgotgot\n",
      "gotgotgotgotgotgotgotgotgotgotgotgotgotgotgotgotgotgotgotgotgotgotgotgotgotgotgotgotgotgotgotgotgotgotgotgotgotgotgotgotgotgot\n",
      "gotgotgotgotgotgotgotgotgotgotgotgotgotgotgotgotgotgotgotgotgotgotgotgotgotgotgotgotgotgotgotgotgotgotgotgotgotgotgotgotgotgotgot\n",
      "gotgotgotgotgotgotgotgotgotgotgotgotgotgotgotgotgotgotgotgotgotgotgotgotgotgotgotgotgotgotgotgotgotgotgotgotgotgotgotgotgotgotgotgot\n",
      "gotgotgotgotgotgotgotgotgotgotgotgotgotgotgotgotgotgotgotgotgotgotgotgotgotgotgotgotgotgotgotgotgotgotgotgotgotgotgotgotgotgotgotgotgot\n",
      "gotgotgotgotgotgotgotgotgotgotgotgotgotgotgotgotgotgotgotgotgotgotgotgotgotgotgotgotgotgotgotgotgotgotgotgotgotgotgotgotgotgotgotgotgotgot\n",
      "gotgotgotgotgotgotgotgotgotgotgotgotgotgotgotgotgotgotgotgotgotgotgotgotgotgotgotgotgotgotgotgotgotgotgotgotgotgotgotgotgotgotgotgotgotgotgot\n",
      "gotgotgotgotgotgotgotgotgotgotgotgotgotgotgotgotgotgotgotgotgotgotgotgotgotgotgotgotgotgotgotgotgotgotgotgotgotgotgotgotgotgotgotgotgotgotgotgot\n",
      "gotgotgotgotgotgotgotgotgotgotgotgotgotgotgotgotgotgotgotgotgotgotgotgotgotgotgotgotgotgotgotgotgotgotgotgotgotgotgotgotgotgotgotgotgotgotgotgotgot\n",
      "gotgotgotgotgotgotgotgotgotgotgotgotgotgotgotgotgotgotgotgotgotgotgotgotgotgotgotgotgotgotgotgotgotgotgotgotgotgotgotgotgotgotgotgotgotgotgotgotgotgot\n",
      "gotgotgotgotgotgotgotgotgotgotgotgotgotgotgotgotgotgotgotgotgotgotgotgotgotgotgotgotgotgotgotgotgotgotgotgotgotgotgotgotgotgotgotgotgotgotgotgotgotgotgot\n",
      "gotgotgotgotgotgotgotgotgotgotgotgotgotgotgotgotgotgotgotgotgotgotgotgotgotgotgotgotgotgotgotgotgotgotgotgotgotgotgotgotgotgotgotgotgotgotgotgotgotgotgotgot\n",
      "gotgotgotgotgotgotgotgotgotgotgotgotgotgotgotgotgotgotgotgotgotgotgotgotgotgotgotgotgotgotgotgotgotgotgotgotgotgotgotgotgotgotgotgotgotgotgotgotgotgotgotgotgot\n",
      "gotgotgotgotgotgotgotgotgotgotgotgotgotgotgotgotgotgotgotgotgotgotgotgotgotgotgotgotgotgotgotgotgotgotgotgotgotgotgotgotgotgotgotgotgotgotgotgotgotgotgotgotgotgot\n"
     ]
    }
   ],
   "source": [
    "for i in range(5,55):\n",
    "    print(i*\"got\")"
   ]
  },
  {
   "cell_type": "code",
   "execution_count": 7,
   "metadata": {},
   "outputs": [
    {
     "name": "stdout",
     "output_type": "stream",
     "text": [
      "0*1*2*3*4*5*6*7*8*9*10*11*12*13*14*15*16*17*18*19*20*21*22*23*24*25*26*27*28*29*30*31*32*33*34*35*36*37*38*39*40*41*42*43*44*45*46*47*48*49*50*51*52*53*54*55*56*57*58*59*60*61*62*63*64*65*66*67*68*69*70*71*72*73*74*75*76*77*78*79*80*81*82*83*84*85*86*87*88*89*90*91*92*93*94*95*96*97*98*99*"
     ]
    }
   ],
   "source": [
    "for x in range(100):\n",
    "    print(x,end=\"*\")"
   ]
  },
  {
   "cell_type": "code",
   "execution_count": 8,
   "metadata": {},
   "outputs": [
    {
     "name": "stdout",
     "output_type": "stream",
     "text": [
      "(0, 10)\n",
      "(1, 20)\n",
      "(2, 30)\n",
      "(3, 40)\n",
      "(4, 50)\n",
      "(5, 60)\n",
      "(6, 70)\n",
      "(7, 80)\n",
      "(8, 90)\n",
      "(9, 100)\n"
     ]
    }
   ],
   "source": [
    "data=[10,20,30,40,50,60,70,80,90,100]\n",
    "for i in enumerate(data):\n",
    "    print(i)"
   ]
  },
  {
   "cell_type": "code",
   "execution_count": 9,
   "metadata": {},
   "outputs": [
    {
     "name": "stdout",
     "output_type": "stream",
     "text": [
      "11\n",
      "14\n",
      "16\n",
      "18\n",
      "20\n"
     ]
    }
   ],
   "source": [
    "x=[1,2,3,4,5]\n",
    "y=[10,12,13,14,15]\n",
    "for i in range(len(x)):\n",
    "    out=x[i]+y[i]\n",
    "    print(out)"
   ]
  },
  {
   "cell_type": "code",
   "execution_count": 10,
   "metadata": {},
   "outputs": [
    {
     "name": "stdout",
     "output_type": "stream",
     "text": [
      "11\n",
      "14\n",
      "16\n",
      "18\n",
      "20\n"
     ]
    }
   ],
   "source": [
    "#pythonic\n",
    "for i,j in zip(x,y):\n",
    "    out=i+j\n",
    "    print(out)"
   ]
  },
  {
   "cell_type": "code",
   "execution_count": 11,
   "metadata": {},
   "outputs": [
    {
     "name": "stdout",
     "output_type": "stream",
     "text": [
      "8\n",
      "25\n",
      "25\n",
      "32\n",
      "150\n",
      "70\n"
     ]
    }
   ],
   "source": [
    "x=[2,5,1,2,5,2,5]\n",
    "y=[2,1,5,2,5,5]\n",
    "z=[2,5,5,8,6,7]\n",
    "for i,j,k in zip(x,y,z):\n",
    "    a=i*j*k\n",
    "    print(a)\n"
   ]
  },
  {
   "cell_type": "code",
   "execution_count": 1,
   "metadata": {},
   "outputs": [
    {
     "name": "stdout",
     "output_type": "stream",
     "text": [
      "1\n",
      "3\n",
      "5\n",
      "7\n",
      "9\n",
      "11\n",
      "13\n",
      "15\n",
      "17\n",
      "19\n",
      "21\n",
      "23\n",
      "25\n",
      "27\n",
      "29\n",
      "31\n",
      "33\n",
      "35\n",
      "37\n",
      "39\n",
      "41\n",
      "43\n",
      "45\n",
      "47\n",
      "49\n",
      "51\n",
      "53\n",
      "55\n",
      "57\n",
      "59\n",
      "61\n",
      "63\n",
      "65\n",
      "67\n",
      "69\n",
      "71\n",
      "73\n",
      "75\n",
      "77\n",
      "79\n",
      "81\n",
      "83\n",
      "85\n",
      "87\n",
      "89\n",
      "91\n",
      "93\n",
      "95\n",
      "97\n",
      "99\n"
     ]
    }
   ],
   "source": [
    "for i in range (1,100,2):\n",
    "    print(i)\n",
    "\n",
    "\n"
   ]
  },
  {
   "cell_type": "code",
   "execution_count": 8,
   "metadata": {},
   "outputs": [
    {
     "name": "stdout",
     "output_type": "stream",
     "text": [
      "the sum of squar is: 774\n"
     ]
    }
   ],
   "source": [
    "numbers=[3,5,23,6,5,1,2,9,8]\n",
    "sum=0\n",
    "for num in numbers:\n",
    "    sum+=num**2\n",
    "print(\"the sum of squar is:\",sum)"
   ]
  },
  {
   "cell_type": "code",
   "execution_count": 12,
   "metadata": {},
   "outputs": [
    {
     "name": "stdout",
     "output_type": "stream",
     "text": [
      "the sum of digit of the number is: 6\n"
     ]
    }
   ],
   "source": [
    "num=input(\"Enter a number:\")\n",
    "sum=0\n",
    "for digit in num:\n",
    "    sum+=int(digit)\n",
    "print(\"the sum of digit of the number is:\",sum)"
   ]
  },
  {
   "cell_type": "markdown",
   "metadata": {},
   "source": []
  },
  {
   "cell_type": "code",
   "execution_count": 13,
   "metadata": {},
   "outputs": [
    {
     "name": "stdout",
     "output_type": "stream",
     "text": [
      "run\n",
      "run\n",
      "run\n",
      "run\n",
      "run\n",
      "stop\n"
     ]
    }
   ],
   "source": [
    "x=1\n",
    "while x<=5:\n",
    "    print('run')\n",
    "    x+=1\n",
    "print('stop')\n"
   ]
  },
  {
   "cell_type": "code",
   "execution_count": 21,
   "metadata": {},
   "outputs": [
    {
     "name": "stdout",
     "output_type": "stream",
     "text": [
      "1\n",
      "2\n",
      "3\n",
      "4\n",
      "5\n",
      "6\n",
      "7\n",
      "8\n",
      "9\n",
      "10\n",
      "11\n",
      "12\n",
      "13\n",
      "14\n",
      "15\n",
      "16\n",
      "17\n",
      "18\n",
      "19\n",
      "20\n"
     ]
    }
   ],
   "source": [
    "x=1\n",
    "while x<21:\n",
    "    print(x)\n",
    "    x+=1\n"
   ]
  },
  {
   "cell_type": "code",
   "execution_count": 22,
   "metadata": {},
   "outputs": [
    {
     "name": "stdout",
     "output_type": "stream",
     "text": [
      "0\n",
      "1\n",
      "2\n"
     ]
    }
   ],
   "source": [
    "for i in range(5):\n",
    "    if i==3:\n",
    "        break\n",
    "    print(i)"
   ]
  },
  {
   "cell_type": "code",
   "execution_count": 24,
   "metadata": {},
   "outputs": [
    {
     "name": "stdout",
     "output_type": "stream",
     "text": [
      "0\n",
      "1\n",
      "2\n",
      "3\n",
      "4\n",
      "6\n",
      "7\n",
      "8\n",
      "9\n"
     ]
    }
   ],
   "source": [
    "for i in range(10):\n",
    "    if i==5:\n",
    "        continue\n",
    "    print(i)"
   ]
  },
  {
   "cell_type": "code",
   "execution_count": 1,
   "metadata": {},
   "outputs": [
    {
     "name": "stdout",
     "output_type": "stream",
     "text": [
      "5 * 1 = 5\n",
      "5 * 2 = 10\n",
      "5 * 3 = 15\n",
      "5 * 4 = 20\n",
      "5 * 5 = 25\n",
      "5 * 6 = 30\n",
      "5 * 7 = 35\n",
      "5 * 8 = 40\n",
      "5 * 9 = 45\n",
      "5 * 10 = 50\n"
     ]
    }
   ],
   "source": [
    "n=int(input('enter number:'))\n",
    "for i in range(1,11):\n",
    "    print(n,\"*\",i,\"=\",n*i)"
   ]
  },
  {
   "cell_type": "code",
   "execution_count": null,
   "metadata": {},
   "outputs": [],
   "source": []
  }
 ],
 "metadata": {
  "kernelspec": {
   "display_name": "base",
   "language": "python",
   "name": "python3"
  },
  "language_info": {
   "codemirror_mode": {
    "name": "ipython",
    "version": 3
   },
   "file_extension": ".py",
   "mimetype": "text/x-python",
   "name": "python",
   "nbconvert_exporter": "python",
   "pygments_lexer": "ipython3",
   "version": "3.10.9"
  },
  "orig_nbformat": 4,
  "vscode": {
   "interpreter": {
    "hash": "ddb05abf6ecdf78f1a86dd126733ceeced80efe27c054e02ab0cf37d45126361"
   }
  }
 },
 "nbformat": 4,
 "nbformat_minor": 2
}
