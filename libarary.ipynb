{
 "cells": [
  {
   "cell_type": "code",
   "execution_count": 8,
   "metadata": {},
   "outputs": [],
   "source": [
    "import math"
   ]
  },
  {
   "cell_type": "code",
   "execution_count": 9,
   "metadata": {},
   "outputs": [
    {
     "name": "stdout",
     "output_type": "stream",
     "text": [
      "5.0\n"
     ]
    }
   ],
   "source": [
    "print(math.sqrt(25))"
   ]
  },
  {
   "cell_type": "code",
   "execution_count": 10,
   "metadata": {},
   "outputs": [],
   "source": [
    "from random import Random,randint,choice,shuffle"
   ]
  },
  {
   "cell_type": "code",
   "execution_count": 12,
   "metadata": {},
   "outputs": [
    {
     "name": "stdout",
     "output_type": "stream",
     "text": [
      "get a random number between 0 and 1:\n",
      "get a random integer between 50 and 100: 83\n",
      "select a random item lose\n",
      "shuffle a list: ['John', 'Jack', 'Jane', 'Joe', 'Jill']\n"
     ]
    }
   ],
   "source": [
    "print('get a random number between 0 and 1:', )\n",
    "print('get a random integer between 50 and 100:', randint(50, 100))\n",
    "print('select a random item',choice(['win', 'lose', 'draw']))\n",
    "names=['John', 'Jane', 'Jack', 'Jill', 'Joe']\n",
    "shuffle(names)\n",
    "print('shuffle a list:', names)\n"
   ]
  },
  {
   "cell_type": "code",
   "execution_count": 15,
   "metadata": {},
   "outputs": [],
   "source": [
    "from datetime import datetime as dt"
   ]
  },
  {
   "cell_type": "code",
   "execution_count": 16,
   "metadata": {},
   "outputs": [
    {
     "name": "stdout",
     "output_type": "stream",
     "text": [
      "120\n"
     ]
    }
   ],
   "source": [
    "import math\n",
    "\n",
    "print(math.factorial(5))"
   ]
  },
  {
   "cell_type": "code",
   "execution_count": null,
   "metadata": {},
   "outputs": [],
   "source": [
    "from datetime import datetime as dt"
   ]
  },
  {
   "cell_type": "code",
   "execution_count": null,
   "metadata": {},
   "outputs": [
    {
     "name": "stdout",
     "output_type": "stream",
     "text": [
      "formated date 10/05/2023\n"
     ]
    }
   ],
   "source": [
    "date=dt.strftime(dt.now(), '%d/%m/%Y')\n",
    "print('formated date' , date)"
   ]
  },
  {
   "cell_type": "code",
   "execution_count": null,
   "metadata": {},
   "outputs": [
    {
     "data": {
      "text/plain": [
       "'22:18:49'"
      ]
     },
     "execution_count": 7,
     "metadata": {},
     "output_type": "execute_result"
    }
   ],
   "source": [
    "dt.strftime(dt.now(),  '%H:%M:%S')"
   ]
  },
  {
   "cell_type": "code",
   "execution_count": null,
   "metadata": {},
   "outputs": [],
   "source": [
    "import os #know about folders and file"
   ]
  },
  {
   "cell_type": "code",
   "execution_count": 17,
   "metadata": {},
   "outputs": [
    {
     "ename": "NameError",
     "evalue": "name 'os' is not defined",
     "output_type": "error",
     "traceback": [
      "\u001b[1;31m---------------------------------------------------------------------------\u001b[0m",
      "\u001b[1;31mNameError\u001b[0m                                 Traceback (most recent call last)",
      "Cell \u001b[1;32mIn[17], line 1\u001b[0m\n\u001b[1;32m----> 1\u001b[0m \u001b[39mprint\u001b[39m(\u001b[39m'\u001b[39m\u001b[39mcurrent folder\u001b[39m\u001b[39m'\u001b[39m, os\u001b[39m.\u001b[39mgetcwd())\n",
      "\u001b[1;31mNameError\u001b[0m: name 'os' is not defined"
     ]
    }
   ],
   "source": [
    "print('current folder', os.getcwd())"
   ]
  },
  {
   "cell_type": "code",
   "execution_count": null,
   "metadata": {},
   "outputs": [
    {
     "name": "stdout",
     "output_type": "stream",
     "text": [
      "['.git', 'basics.ipynb', 'class.ipynb', 'conditiol.ipynb', 'dict.ipynb', 'e1.py', 'function.ipynb', 'libarary.ipynb', 'llst.ipynb', 'loops.ipynb', 'string.ipynb', 't2.py', 't3.py', 't4.py', 't5.py', 't6.py']\n"
     ]
    }
   ],
   "source": [
    "files=os.listdir() #list all files and folder in current dic\n",
    "print(files)"
   ]
  },
  {
   "cell_type": "code",
   "execution_count": null,
   "metadata": {},
   "outputs": [
    {
     "name": "stdout",
     "output_type": "stream",
     "text": [
      "['Arduino', 'Custom Office Templates', 'Database1.accdb', 'databasee', 'desktop.ini', 'my course', 'My Music', 'My Pictures', 'My Tableau Repository', 'My Videos', 'OneNote Notebooks']\n",
      "11\n"
     ]
    }
   ],
   "source": [
    "files=os.listdir(r\"C:\\Users\\91902\\Documents\")\n",
    "print(files)\n",
    "print(len(files))"
   ]
  },
  {
   "cell_type": "code",
   "execution_count": null,
   "metadata": {},
   "outputs": [
    {
     "data": {
      "text/plain": [
       "<generator object _walk at 0x000002A431943840>"
      ]
     },
     "execution_count": 18,
     "metadata": {},
     "output_type": "execute_result"
    }
   ],
   "source": [
    "os.walk('c:') #walk through all folder and files in c drive"
   ]
  },
  {
   "cell_type": "code",
   "execution_count": null,
   "metadata": {},
   "outputs": [],
   "source": [
    "total_files=0\n",
    "for path, folders ,files in os.walk(r\"C:\\Users\\91902\\Documents\"):\n",
    "    print('=>' path)\n",
    "    print('🎞')"
   ]
  },
  {
   "cell_type": "code",
   "execution_count": null,
   "metadata": {},
   "outputs": [
    {
     "name": "stdout",
     "output_type": "stream",
     "text": [
      "file exixt\n"
     ]
    }
   ],
   "source": [
    "files=r\"C:\\Users\\91902\\Documents\\my course\"\n",
    "if os.path.exists(files):\n",
    "    print('file exixt')\n"
   ]
  },
  {
   "cell_type": "code",
   "execution_count": null,
   "metadata": {},
   "outputs": [],
   "source": [
    "import os"
   ]
  },
  {
   "cell_type": "code",
   "execution_count": null,
   "metadata": {},
   "outputs": [
    {
     "name": "stdout",
     "output_type": "stream",
     "text": [
      "file exists\n",
      "size in bytes: 4096\n",
      "size in kilobytes: 4.0\n",
      "size in megabites: 0.00390625\n",
      "size in gigabytes: 3.814697265625e-06\n",
      "size in terabytes: 3.725290298461914e-09\n",
      "size in petabytes: 3.637978807091713e-12\n",
      "size in exabytes: 3.552713678800501e-15\n",
      "size in zettabytes: 3.469446951953614e-18\n",
      "size in yottabytes: 3.3881317890172014e-21\n"
     ]
    }
   ],
   "source": [
    "file=r\"C:\\Users\\91902\\Documents\\my course\" #file exists or not and print its size in various format\n",
    "if os.path.exists(file):\n",
    "    print('file exists')\n",
    "    size=os.path.getsize(file)\n",
    "    print('size in bytes:', size)\n",
    "    print('size in kilobytes:',size/1024)\n",
    "    print('size in megabites:', size/(1024*1024))\n",
    "    print('size in gigabytes:', size/(1024*1024*1024))\n",
    "    print('size in terabytes:', size/(1024*1024*1024*1024))\n",
    "    print('size in petabytes:', size/(1024*1024*1024*1024*1024))\n",
    "    print('size in exabytes:', size/(1024*1024*1024*1024*1024*1024))\n",
    "    print('size in zettabytes:', size/(1024*1024*1024*1024*1024*1024*1024))\n",
    "    print('size in yottabytes:', size/(1024*1024*1024*1024*1024*1024*1024*1024))\n",
    "else:\n",
    "    print('no')\n"
   ]
  }
 ],
 "metadata": {
  "kernelspec": {
   "display_name": "base",
   "language": "python",
   "name": "python3"
  },
  "language_info": {
   "codemirror_mode": {
    "name": "ipython",
    "version": 3
   },
   "file_extension": ".py",
   "mimetype": "text/x-python",
   "name": "python",
   "nbconvert_exporter": "python",
   "pygments_lexer": "ipython3",
   "version": "3.10.9"
  },
  "orig_nbformat": 4
 },
 "nbformat": 4,
 "nbformat_minor": 2
}
