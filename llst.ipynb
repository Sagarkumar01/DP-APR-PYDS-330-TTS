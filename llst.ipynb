{
 "cells": [
  {
   "cell_type": "code",
   "execution_count": 47,
   "metadata": {},
   "outputs": [
    {
     "name": "stdout",
     "output_type": "stream",
     "text": [
      "['whatsaap', 'whatsaap', 'twitter', 'googleplay', 'ola', 'king', 'instagram', 'pubg', 'googlemap', 'uber', 'facebook', 'oyo', 'powerpoint']\n"
     ]
    }
   ],
   "source": [
    "apps=['whatsaap','whatsaap','twitter','googleplay','ola','king','instagram','pubg','googlemap','uber','facebook','oyo','powerpoint',]\n",
    "print(apps)\n"
   ]
  },
  {
   "cell_type": "code",
   "execution_count": 48,
   "metadata": {},
   "outputs": [
    {
     "data": {
      "text/plain": [
       "list"
      ]
     },
     "execution_count": 48,
     "metadata": {},
     "output_type": "execute_result"
    }
   ],
   "source": [
    "type(apps)"
   ]
  },
  {
   "cell_type": "code",
   "execution_count": 49,
   "metadata": {},
   "outputs": [
    {
     "name": "stdout",
     "output_type": "stream",
     "text": [
      "13\n"
     ]
    }
   ],
   "source": [
    "print(len(apps))"
   ]
  },
  {
   "cell_type": "code",
   "execution_count": null,
   "metadata": {},
   "outputs": [
    {
     "name": "stdout",
     "output_type": "stream",
     "text": [
      "['whatsaap', 'whatsaap', 'twitter', 'googleplay', 'ola', 'king', 'instagram', 'pubg', 'googlemap', 'uber', 'facebook', 'oyo', 'powerpoint', 'microsoft office']\n"
     ]
    }
   ],
   "source": [
    "apps.append('microsoft office')\n",
    "print(apps)"
   ]
  },
  {
   "cell_type": "code",
   "execution_count": null,
   "metadata": {},
   "outputs": [
    {
     "name": "stdout",
     "output_type": "stream",
     "text": [
      "['whatsaap', 'powerbi', 'whatsaap', 'twitter', 'googleplay', 'ola', 'king', 'instagram', 'pubg', 'googlemap', 'uber', 'facebook', 'oyo', 'powerpoint', 'microsoft office']\n"
     ]
    }
   ],
   "source": [
    "apps.insert(1,'powerbi')\n",
    "print(apps)"
   ]
  },
  {
   "cell_type": "code",
   "execution_count": null,
   "metadata": {},
   "outputs": [
    {
     "name": "stdout",
     "output_type": "stream",
     "text": [
      "['powerbi', 'whatsaap', 'twitter', 'googleplay', 'ola', 'king', 'instagram', 'pubg', 'googlemap', 'uber', 'facebook', 'oyo', 'powerpoint', 'microsoft office']\n"
     ]
    }
   ],
   "source": [
    "apps.remove('whatsaap')\n",
    "print(apps)"
   ]
  },
  {
   "cell_type": "code",
   "execution_count": null,
   "metadata": {},
   "outputs": [
    {
     "name": "stdout",
     "output_type": "stream",
     "text": [
      "['powerbi', 'twitter', 'googleplay', 'ola', 'king', 'instagram', 'pubg', 'googlemap', 'uber', 'facebook', 'oyo', 'powerpoint', 'microsoft office']\n"
     ]
    }
   ],
   "source": [
    "apps.pop(1)\n",
    "print(apps)"
   ]
  },
  {
   "cell_type": "code",
   "execution_count": null,
   "metadata": {},
   "outputs": [
    {
     "name": "stdout",
     "output_type": "stream",
     "text": [
      "['microsoft office', 'powerpoint', 'oyo', 'facebook', 'uber', 'googlemap', 'pubg', 'instagram', 'king', 'ola', 'googleplay', 'twitter', 'powerbi']\n"
     ]
    }
   ],
   "source": [
    "apps.reverse()\n",
    "print(apps)"
   ]
  },
  {
   "cell_type": "code",
   "execution_count": null,
   "metadata": {},
   "outputs": [
    {
     "name": "stdout",
     "output_type": "stream",
     "text": [
      "['facebook', 'googlemap', 'googleplay', 'instagram', 'king', 'microsoft office', 'ola', 'oyo', 'powerbi', 'powerpoint', 'pubg', 'twitter', 'uber']\n"
     ]
    }
   ],
   "source": [
    "apps.sort()\n",
    "print(apps)"
   ]
  },
  {
   "cell_type": "code",
   "execution_count": null,
   "metadata": {},
   "outputs": [
    {
     "name": "stdout",
     "output_type": "stream",
     "text": [
      "1\n"
     ]
    }
   ],
   "source": [
    "x=apps.count('facebook')\n",
    "print(x)"
   ]
  },
  {
   "cell_type": "code",
   "execution_count": null,
   "metadata": {},
   "outputs": [
    {
     "name": "stdout",
     "output_type": "stream",
     "text": [
      "['olx', 'nova']\n"
     ]
    }
   ],
   "source": [
    "b=['olx','nova']\n",
    "print(b)"
   ]
  },
  {
   "cell_type": "code",
   "execution_count": null,
   "metadata": {},
   "outputs": [
    {
     "name": "stdout",
     "output_type": "stream",
     "text": [
      "['facebook', 'googlemap', 'googleplay', 'instagram', 'king', 'microsoft office', 'ola', 'oyo', 'powerbi', 'powerpoint', 'pubg', 'twitter', 'uber', 'olx', 'nova']\n"
     ]
    }
   ],
   "source": [
    "apps.extend(b)\n",
    "print(apps)"
   ]
  },
  {
   "cell_type": "code",
   "execution_count": 2,
   "metadata": {},
   "outputs": [
    {
     "name": "stdout",
     "output_type": "stream",
     "text": [
      "[1, 2, 3, 4, 5, 6, 7, 8, 9, 10]\n"
     ]
    }
   ],
   "source": [
    "my_list =[1,2,3,4,5,6,7,8,9,10]\n",
    "list_sum=sum(my_list)\n",
    "print(my_list)"
   ]
  },
  {
   "cell_type": "code",
   "execution_count": 8,
   "metadata": {},
   "outputs": [
    {
     "name": "stdout",
     "output_type": "stream",
     "text": [
      "*\n",
      "\n",
      "**\n",
      "\n",
      "***\n",
      "\n",
      "****\n",
      "\n",
      "*****\n",
      "\n",
      "******\n",
      "\n",
      "*******\n",
      "\n",
      "********\n",
      "\n",
      "*********\n",
      "\n",
      "**********\n",
      "\n"
     ]
    }
   ],
   "source": [
    "n=int(input('Enter limit: '))\n",
    "for i in range(1,n+1):\n",
    "    for j in range(1,i+1):\n",
    "        print(\"*\",end=\"\")\n",
    "    print(\"\\n\")"
   ]
  },
  {
   "cell_type": "code",
   "execution_count": 10,
   "metadata": {},
   "outputs": [
    {
     "name": "stdout",
     "output_type": "stream",
     "text": [
      "n\n",
      "\n",
      "nn\n",
      "\n",
      "nnn\n",
      "\n",
      "nnnn\n",
      "\n",
      "nnnnn\n",
      "\n",
      "nnnnnn\n",
      "\n",
      "nnnnnnn\n",
      "\n",
      "nnnnnnnn\n",
      "\n",
      "nnnnnnnnn\n",
      "\n",
      "nnnnnnnnnn\n",
      "\n"
     ]
    }
   ],
   "source": [
    "n=int(input('Enter limit: '))\n",
    "for i in range(1,n+1):\n",
    "    for j in range(1,i+1):\n",
    "        print(\"n\",end=\"\")\n",
    "    print(\"\\n\")"
   ]
  }
 ],
 "metadata": {
  "kernelspec": {
   "display_name": "base",
   "language": "python",
   "name": "python3"
  },
  "language_info": {
   "codemirror_mode": {
    "name": "ipython",
    "version": 3
   },
   "file_extension": ".py",
   "mimetype": "text/x-python",
   "name": "python",
   "nbconvert_exporter": "python",
   "pygments_lexer": "ipython3",
   "version": "3.10.9"
  },
  "orig_nbformat": 4
 },
 "nbformat": 4,
 "nbformat_minor": 2
}
