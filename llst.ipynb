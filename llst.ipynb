{
 "cells": [
  {
   "cell_type": "code",
   "execution_count": 4,
   "metadata": {},
   "outputs": [
    {
     "name": "stdout",
     "output_type": "stream",
     "text": [
      "['whatsaap', 'whatsaap', 'twitter', 'googleplay', 'ola', 'king', 'instagram', 'pubg', 'googlemap', 'uber', 'facebook', 'oyo', 'powerpoint']\n"
     ]
    }
   ],
   "source": [
    "apps=['whatsaap','whatsaap','twitter','googleplay','ola','king','instagram','pubg','googlemap','uber','facebook','oyo','powerpoint',]\n",
    "print(apps)\n"
   ]
  },
  {
   "cell_type": "code",
   "execution_count": 5,
   "metadata": {},
   "outputs": [
    {
     "data": {
      "text/plain": [
       "list"
      ]
     },
     "execution_count": 5,
     "metadata": {},
     "output_type": "execute_result"
    }
   ],
   "source": [
    "type(apps)"
   ]
  },
  {
   "cell_type": "code",
   "execution_count": 6,
   "metadata": {},
   "outputs": [
    {
     "name": "stdout",
     "output_type": "stream",
     "text": [
      "13\n"
     ]
    }
   ],
   "source": [
    "print(len(apps))"
   ]
  },
  {
   "cell_type": "code",
   "execution_count": 7,
   "metadata": {},
   "outputs": [
    {
     "name": "stdout",
     "output_type": "stream",
     "text": [
      "['whatsaap', 'whatsaap', 'twitter', 'googleplay', 'ola', 'king', 'instagram', 'pubg', 'googlemap', 'uber', 'facebook', 'oyo', 'powerpoint', 'microsoft office']\n"
     ]
    }
   ],
   "source": [
    "apps.append('microsoft office')\n",
    "print(apps)"
   ]
  },
  {
   "cell_type": "code",
   "execution_count": 8,
   "metadata": {},
   "outputs": [
    {
     "name": "stdout",
     "output_type": "stream",
     "text": [
      "['whatsaap', 'powerbi', 'whatsaap', 'twitter', 'googleplay', 'ola', 'king', 'instagram', 'pubg', 'googlemap', 'uber', 'facebook', 'oyo', 'powerpoint', 'microsoft office']\n"
     ]
    }
   ],
   "source": [
    "apps.insert(1,'powerbi')\n",
    "print(apps)"
   ]
  },
  {
   "cell_type": "code",
   "execution_count": 9,
   "metadata": {},
   "outputs": [
    {
     "name": "stdout",
     "output_type": "stream",
     "text": [
      "['powerbi', 'whatsaap', 'twitter', 'googleplay', 'ola', 'king', 'instagram', 'pubg', 'googlemap', 'uber', 'facebook', 'oyo', 'powerpoint', 'microsoft office']\n"
     ]
    }
   ],
   "source": [
    "apps.remove('whatsaap')\n",
    "print(apps)"
   ]
  },
  {
   "cell_type": "code",
   "execution_count": 10,
   "metadata": {},
   "outputs": [
    {
     "name": "stdout",
     "output_type": "stream",
     "text": [
      "['powerbi', 'twitter', 'googleplay', 'ola', 'king', 'instagram', 'pubg', 'googlemap', 'uber', 'facebook', 'oyo', 'powerpoint', 'microsoft office']\n"
     ]
    }
   ],
   "source": [
    "apps.pop(1)\n",
    "print(apps)"
   ]
  },
  {
   "cell_type": "code",
   "execution_count": 11,
   "metadata": {},
   "outputs": [
    {
     "name": "stdout",
     "output_type": "stream",
     "text": [
      "['microsoft office', 'powerpoint', 'oyo', 'facebook', 'uber', 'googlemap', 'pubg', 'instagram', 'king', 'ola', 'googleplay', 'twitter', 'powerbi']\n"
     ]
    }
   ],
   "source": [
    "apps.reverse()\n",
    "print(apps)"
   ]
  },
  {
   "cell_type": "code",
   "execution_count": 12,
   "metadata": {},
   "outputs": [
    {
     "name": "stdout",
     "output_type": "stream",
     "text": [
      "['facebook', 'googlemap', 'googleplay', 'instagram', 'king', 'microsoft office', 'ola', 'oyo', 'powerbi', 'powerpoint', 'pubg', 'twitter', 'uber']\n"
     ]
    }
   ],
   "source": [
    "apps.sort()\n",
    "print(apps)"
   ]
  },
  {
   "cell_type": "code",
   "execution_count": 13,
   "metadata": {},
   "outputs": [
    {
     "name": "stdout",
     "output_type": "stream",
     "text": [
      "1\n"
     ]
    }
   ],
   "source": [
    "x=apps.count('facebook')\n",
    "print(x)"
   ]
  },
  {
   "cell_type": "code",
   "execution_count": 14,
   "metadata": {},
   "outputs": [
    {
     "name": "stdout",
     "output_type": "stream",
     "text": [
      "['olx', 'nova']\n"
     ]
    }
   ],
   "source": [
    "b=['olx','nova']\n",
    "print(b)"
   ]
  },
  {
   "cell_type": "code",
   "execution_count": 15,
   "metadata": {},
   "outputs": [
    {
     "name": "stdout",
     "output_type": "stream",
     "text": [
      "['facebook', 'googlemap', 'googleplay', 'instagram', 'king', 'microsoft office', 'ola', 'oyo', 'powerbi', 'powerpoint', 'pubg', 'twitter', 'uber', 'olx', 'nova']\n"
     ]
    }
   ],
   "source": [
    "apps.extend(b)\n",
    "print(apps)"
   ]
  },
  {
   "cell_type": "code",
   "execution_count": 3,
   "metadata": {},
   "outputs": [
    {
     "name": "stdout",
     "output_type": "stream",
     "text": [
      "[1, 2, 3, 4, 5, 6, 7, 8, 9, 10]\n"
     ]
    }
   ],
   "source": [
    "my_list =[1,2,3,4,5,6,7,8,9,10]\n",
    "\n",
    "print(my_list)"
   ]
  },
  {
   "cell_type": "code",
   "execution_count": 4,
   "metadata": {},
   "outputs": [
    {
     "ename": "ValueError",
     "evalue": "invalid literal for int() with base 10: ''",
     "output_type": "error",
     "traceback": [
      "\u001b[1;31m---------------------------------------------------------------------------\u001b[0m",
      "\u001b[1;31mValueError\u001b[0m                                Traceback (most recent call last)",
      "Cell \u001b[1;32mIn[4], line 1\u001b[0m\n\u001b[1;32m----> 1\u001b[0m n\u001b[39m=\u001b[39m\u001b[39mint\u001b[39;49m(\u001b[39minput\u001b[39;49m(\u001b[39m'\u001b[39;49m\u001b[39mEnter limit: \u001b[39;49m\u001b[39m'\u001b[39;49m))\n\u001b[0;32m      2\u001b[0m \u001b[39mfor\u001b[39;00m i \u001b[39min\u001b[39;00m \u001b[39mrange\u001b[39m(\u001b[39m1\u001b[39m,n\u001b[39m+\u001b[39m\u001b[39m1\u001b[39m):\n\u001b[0;32m      3\u001b[0m     \u001b[39mfor\u001b[39;00m j \u001b[39min\u001b[39;00m \u001b[39mrange\u001b[39m(\u001b[39m1\u001b[39m,i\u001b[39m+\u001b[39m\u001b[39m1\u001b[39m):\n",
      "\u001b[1;31mValueError\u001b[0m: invalid literal for int() with base 10: ''"
     ]
    }
   ],
   "source": [
    "n=int(input('Enter limit: '))\n",
    "for i in range(1,n+1):\n",
    "    for j in range(1,i+1):\n",
    "        print(\"*\",end=\"\")\n",
    "    print(\"\\n\")"
   ]
  },
  {
   "cell_type": "code",
   "execution_count": null,
   "metadata": {},
   "outputs": [
    {
     "name": "stdout",
     "output_type": "stream",
     "text": [
      "n\n",
      "\n",
      "nn\n",
      "\n",
      "nnn\n",
      "\n",
      "nnnn\n",
      "\n",
      "nnnnn\n",
      "\n",
      "nnnnnn\n",
      "\n",
      "nnnnnnn\n",
      "\n",
      "nnnnnnnn\n",
      "\n",
      "nnnnnnnnn\n",
      "\n",
      "nnnnnnnnnn\n",
      "\n"
     ]
    }
   ],
   "source": [
    "n=int(input('Enter limit: '))\n",
    "for i in range(1,n+1):\n",
    "    for j in range(1,i+1):\n",
    "        print(\"n\",end=\"\")\n",
    "    print(\"\\n\")"
   ]
  },
  {
   "cell_type": "code",
   "execution_count": 1,
   "metadata": {},
   "outputs": [
    {
     "name": "stdout",
     "output_type": "stream",
     "text": [
      "['apple', 'banana', 'mange', 'grapes', 'papaya']\n"
     ]
    }
   ],
   "source": [
    "fruits=['apple','banana','mange','grapes','papaya']\n",
    "newlist=[]\n",
    "for x in fruits:\n",
    "    newlist.append(x)\n",
    "print(newlist)\n",
    "\n"
   ]
  },
  {
   "cell_type": "code",
   "execution_count": 1,
   "metadata": {},
   "outputs": [
    {
     "name": "stdout",
     "output_type": "stream",
     "text": [
      "['whatsaap', 'camra', 'instagram', 'snapchat', 'truecaller']\n"
     ]
    }
   ],
   "source": [
    "apps=[\"whatsaap\",\"github\",\"camra\",\"instagram\",\"snapchat\",\"spotify\",\"truecaller\"]\n",
    "newlist = []\n",
    "for x in apps:\n",
    "    if \"a\" in x :\n",
    "        newlist.append(x)\n",
    "print(newlist)"
   ]
  },
  {
   "cell_type": "code",
   "execution_count": 3,
   "metadata": {},
   "outputs": [
    {
     "name": "stdout",
     "output_type": "stream",
     "text": [
      "['whatsaap', 'github', 'camra', 'instagram', 'snapchat', 'spotify', 'truecaller']\n"
     ]
    }
   ],
   "source": [
    "apps=[\"whatsaap\",\"github\",\"camra\",\"instagram\",\"snapchat\",\"spotify\",\"truecaller\"]\n",
    "newlist=[x for x in apps if \"a\" in x]\n",
    "print(apps)"
   ]
  },
  {
   "cell_type": "code",
   "execution_count": 5,
   "metadata": {},
   "outputs": [
    {
     "name": "stdout",
     "output_type": "stream",
     "text": [
      "sum of squares of element of list is :385\n"
     ]
    }
   ],
   "source": [
    "x=0\n",
    "a=[1,2,3,4,5,6,7,8,9,10]\n",
    "for i in a:\n",
    "    x+=(i**2)\n",
    "print(f'sum of squares of element of list is :{x}')"
   ]
  },
  {
   "cell_type": "code",
   "execution_count": 2,
   "metadata": {},
   "outputs": [
    {
     "name": "stdout",
     "output_type": "stream",
     "text": [
      "Frist\n"
     ]
    }
   ],
   "source": [
    "n=int(input(\"Enter marks\"))\n",
    "if (n>=60 and n<=100):\n",
    "    print('Frist')\n",
    "elif(n>=45):\n",
    "    print('secound')\n",
    "elif(n>=33):\n",
    "    print('third')\n",
    "else:\n",
    "    print('fail')\n"
   ]
  }
 ],
 "metadata": {
  "kernelspec": {
   "display_name": "base",
   "language": "python",
   "name": "python3"
  },
  "language_info": {
   "codemirror_mode": {
    "name": "ipython",
    "version": 3
   },
   "file_extension": ".py",
   "mimetype": "text/x-python",
   "name": "python",
   "nbconvert_exporter": "python",
   "pygments_lexer": "ipython3",
   "version": "3.10.9"
  },
  "orig_nbformat": 4,
  "vscode": {
   "interpreter": {
    "hash": "ddb05abf6ecdf78f1a86dd126733ceeced80efe27c054e02ab0cf37d45126361"
   }
  }
 },
 "nbformat": 4,
 "nbformat_minor": 2
}
