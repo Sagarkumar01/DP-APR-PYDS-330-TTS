{
 "cells": [
  {
   "cell_type": "code",
   "execution_count": 2,
   "metadata": {},
   "outputs": [],
   "source": [
    "from PIL import Image\n",
    "\n",
    "img=Image.open(r\"C:\\Users\\91902\\Documents\\my course\\IMG_20220425_230101.JPG\")\n",
    "img.show()"
   ]
  },
  {
   "cell_type": "code",
   "execution_count": 3,
   "metadata": {},
   "outputs": [
    {
     "name": "stdout",
     "output_type": "stream",
     "text": [
      "(1080, 705)\n"
     ]
    }
   ],
   "source": [
    "#size of the image\n",
    "print(img.size)\n"
   ]
  },
  {
   "cell_type": "code",
   "execution_count": 4,
   "metadata": {},
   "outputs": [
    {
     "name": "stdout",
     "output_type": "stream",
     "text": [
      "1080*705\n"
     ]
    }
   ],
   "source": [
    "width,hgt=img.size \n",
    "print(str(width)+\"*\"+str(hgt))"
   ]
  },
  {
   "cell_type": "code",
   "execution_count": 5,
   "metadata": {},
   "outputs": [
    {
     "name": "stdout",
     "output_type": "stream",
     "text": [
      "1080\n",
      "705\n"
     ]
    }
   ],
   "source": [
    "width=img.width\n",
    "height=img.height\n",
    "print(width)\n",
    "print(height)"
   ]
  },
  {
   "cell_type": "code",
   "execution_count": 6,
   "metadata": {},
   "outputs": [
    {
     "name": "stdout",
     "output_type": "stream",
     "text": [
      "JPEG\n"
     ]
    }
   ],
   "source": [
    "print(img.format)"
   ]
  },
  {
   "cell_type": "code",
   "execution_count": 7,
   "metadata": {},
   "outputs": [
    {
     "name": "stdout",
     "output_type": "stream",
     "text": [
      "RGB\n"
     ]
    }
   ],
   "source": [
    "\n",
    "print(img.mode)\n"
   ]
  },
  {
   "cell_type": "code",
   "execution_count": 8,
   "metadata": {},
   "outputs": [],
   "source": [
    "img_rotate=img.rotate(180)\n",
    "img_rotate.show()"
   ]
  },
  {
   "cell_type": "code",
   "execution_count": 9,
   "metadata": {},
   "outputs": [],
   "source": [
    "img_rotate=img.rotate(90)\n",
    "img_rotate.show()"
   ]
  },
  {
   "cell_type": "code",
   "execution_count": 10,
   "metadata": {},
   "outputs": [],
   "source": [
    "img_rotate=img.rotate(45)\n",
    "img_rotate.show()"
   ]
  },
  {
   "cell_type": "code",
   "execution_count": 11,
   "metadata": {},
   "outputs": [],
   "source": [
    "img_flip=img.transpose(Image.FLIP_LEFT_RIGHT)\n",
    "img_flip.show()"
   ]
  },
  {
   "cell_type": "code",
   "execution_count": 12,
   "metadata": {},
   "outputs": [],
   "source": [
    "#resizing the image\n",
    "img_resize=img.resize((400,400))\n",
    "img_resize.show()"
   ]
  },
  {
   "cell_type": "code",
   "execution_count": 13,
   "metadata": {},
   "outputs": [],
   "source": [
    "image=Image.open(r\"C:\\Users\\91902\\Documents\\my course\\IMG_20220425_230101.JPG\")\n",
    "image.load()\n",
    "r,g,b = image.split()\n",
    "im1=Image.merge('RGB',(g,b,r))\n",
    "im1.show()"
   ]
  },
  {
   "cell_type": "code",
   "execution_count": 1,
   "metadata": {},
   "outputs": [
    {
     "ename": "NameError",
     "evalue": "name 'Image' is not defined",
     "output_type": "error",
     "traceback": [
      "\u001b[1;31m---------------------------------------------------------------------------\u001b[0m",
      "\u001b[1;31mNameError\u001b[0m                                 Traceback (most recent call last)",
      "Cell \u001b[1;32mIn[1], line 1\u001b[0m\n\u001b[1;32m----> 1\u001b[0m img_1 \u001b[39m=\u001b[39m Image\u001b[39m.\u001b[39mopen(\u001b[39mr\u001b[39m\u001b[39m\"\u001b[39m\u001b[39mC:\u001b[39m\u001b[39m\\\u001b[39m\u001b[39mUsers\u001b[39m\u001b[39m\\\u001b[39m\u001b[39m91902\u001b[39m\u001b[39m\\\u001b[39m\u001b[39mDocuments\u001b[39m\u001b[39m\\\u001b[39m\u001b[39mmy course\u001b[39m\u001b[39m\\\u001b[39m\u001b[39m1.jpg\u001b[39m\u001b[39m\"\u001b[39m)\n\u001b[0;32m      2\u001b[0m img_2 \u001b[39m=\u001b[39m Image\u001b[39m.\u001b[39mopen(\u001b[39mr\u001b[39m\u001b[39m\"\u001b[39m\u001b[39mC:\u001b[39m\u001b[39m\\\u001b[39m\u001b[39mUsers\u001b[39m\u001b[39m\\\u001b[39m\u001b[39m91902\u001b[39m\u001b[39m\\\u001b[39m\u001b[39mDocuments\u001b[39m\u001b[39m\\\u001b[39m\u001b[39mmy course\u001b[39m\u001b[39m\\\u001b[39m\u001b[39m2.jpg\u001b[39m\u001b[39m\"\u001b[39m)\n\u001b[0;32m      3\u001b[0m img_3 \u001b[39m=\u001b[39m Image\u001b[39m.\u001b[39mopen(\u001b[39mr\u001b[39m\u001b[39m\"\u001b[39m\u001b[39mC:\u001b[39m\u001b[39m\\\u001b[39m\u001b[39mUsers\u001b[39m\u001b[39m\\\u001b[39m\u001b[39m91902\u001b[39m\u001b[39m\\\u001b[39m\u001b[39mDocuments\u001b[39m\u001b[39m\\\u001b[39m\u001b[39mmy course\u001b[39m\u001b[39m\\\u001b[39m\u001b[39m3.jpg\u001b[39m\u001b[39m\"\u001b[39m)\n",
      "\u001b[1;31mNameError\u001b[0m: name 'Image' is not defined"
     ]
    }
   ],
   "source": [
    "img_1 = Image.open(r\"C:\\Users\\91902\\Documents\\my course\\1.jpg\")\n",
    "img_2 = Image.open(r\"C:\\Users\\91902\\Documents\\my course\\2.jpg\")\n",
    "img_3 = Image.open(r\"C:\\Users\\91902\\Documents\\my course\\3.jpg\")\n",
    "img_4 = Image.open(r\"C:\\Users\\91902\\Documents\\my course\\4.jpg\")\n",
    "\n",
    "img_1_size = img_1.size\n",
    "img_2_size = img_2.size\n",
    "img_3_size = img_3.size\n",
    "img_4_size = img_4.size\n",
    "\n",
    "print('img 1 size: ',img_1_size)\n",
    "print('img 2 size: ',img_2_size)\n",
    "print('img 3 size: ',img_3_size)\n",
    "print('img 4 size: ',img_4_size)\n",
    "\n",
    "new_im = Image.new('RGB',(2*img_1_size[0],2*img_1_size[1]),(250,250,250))\n",
    "new_im.paste(img_1,(0,0))\n",
    "new_im.paste(img_2,(img_1_size[0],0))\n",
    "new_im.paste(img_3,(0,img_1_size[1]))\n",
    "new_im.paste(img_4,(img_1_size[0],img_1_size[1]))\n",
    "\n",
    "new_im.show()"
   ]
  },
  {
   "cell_type": "code",
   "execution_count": 5,
   "metadata": {},
   "outputs": [
    {
     "ename": "NameError",
     "evalue": "name 'Image' is not defined",
     "output_type": "error",
     "traceback": [
      "\u001b[1;31m---------------------------------------------------------------------------\u001b[0m",
      "\u001b[1;31mNameError\u001b[0m                                 Traceback (most recent call last)",
      "Cell \u001b[1;32mIn[5], line 1\u001b[0m\n\u001b[1;32m----> 1\u001b[0m im\u001b[39m=\u001b[39mImage\u001b[39m.\u001b[39mopen(\u001b[39mr\u001b[39m\u001b[39m\"\u001b[39m\u001b[39mC:\u001b[39m\u001b[39m\\\u001b[39m\u001b[39mUsers\u001b[39m\u001b[39m\\\u001b[39m\u001b[39m91902\u001b[39m\u001b[39m\\\u001b[39m\u001b[39mDocuments\u001b[39m\u001b[39m\\\u001b[39m\u001b[39mmy course\u001b[39m\u001b[39m\\\u001b[39m\u001b[39mIMG_20220425_230101.JPG\u001b[39m\u001b[39m\"\u001b[39m)\n\u001b[0;32m      2\u001b[0m left\u001b[39m=\u001b[39m\u001b[39m5\u001b[39m\n\u001b[0;32m      3\u001b[0m top\u001b[39m=\u001b[39mheight\u001b[39m/\u001b[39m\u001b[39m4\u001b[39m\n",
      "\u001b[1;31mNameError\u001b[0m: name 'Image' is not defined"
     ]
    }
   ],
   "source": [
    "im=Image.open(r\"C:\\Users\\91902\\Documents\\my course\\IMG_20220425_230101.JPG\")\n",
    "left=5\n",
    "top=height/4\n",
    "right=164\n",
    "bottom=3*height/4\n",
    "\n",
    "im1 = im.crop((left, top, right, bottom))\n",
    "im1.show()"
   ]
  },
  {
   "cell_type": "code",
   "execution_count": null,
   "metadata": {},
   "outputs": [],
   "source": [
    "#blurring the image\n",
    "from PIL import Image, ImageFilter\n",
    "#open the image\n",
    "im=Image.open (r\"C:\\Users\\91902\\Documents\\my course\\IMG_20220425_230101.JPG\")\n",
    "#applying the blur filter \n",
    "im1=im.filter(ImageFilter.BLUR)\n",
    "im1.show()"
   ]
  },
  {
   "cell_type": "code",
   "execution_count": null,
   "metadata": {},
   "outputs": [],
   "source": [
    "#blurring the image\n",
    "from PIL import Image,ImageFilter\n",
    "#open the image \n",
    "im=Image.open(r\"C:\\Users\\91902\\Documents\\my course\\IMG_20220425_230101.JPG\")\n",
    "#applying the blurring the filter\n",
    "im1=im.filter(ImageFilter.GaussianBlur(4))\n",
    "im1.show()"
   ]
  },
  {
   "cell_type": "code",
   "execution_count": null,
   "metadata": {},
   "outputs": [],
   "source": [
    "from PIL import Image, ImageFilter\n",
    "im=Image.open(r\"C:\\Users\\91902\\Documents\\my course\\IMG_20220425_230101.JPG\")\n",
    "im1=im.filter(ImageFilter.BoxBlur(4))"
   ]
  },
  {
   "cell_type": "code",
   "execution_count": null,
   "metadata": {},
   "outputs": [],
   "source": [
    "\n",
    "from PIL import Image, ImageFont, ImageDraw\n",
    "#open the image\n",
    "im=Image.open(r\"C:\\Users\\91902\\Documents\\my course\\IMG_20220425_230101.JPG\")\n",
    "#creating a copy of original image\n",
    "watermark_image=im.copy()\n",
    "\n",
    "#draw context\n",
    "draw=ImageDraw.Draw(watermark_image)\n",
    "#font style\n",
    "font=ImageFont.truetype('arial.ttf',50)\n",
    "\n",
    "#decide the text loction color and font\n",
    "#(255,255,255)-white color of the text\n",
    "draw.text((0,0),\"My Name is Lan Zhan\",(255,255,255),font=font)\n",
    "watermark_image.show()"
   ]
  },
  {
   "cell_type": "code",
   "execution_count": null,
   "metadata": {},
   "outputs": [],
   "source": [
    "#import image and image enhancer module\n",
    "from PIL import Image, ImageEnhance\n",
    "#open the Image \n",
    "im=Image.open(r\"C:\\Users\\91902\\Documents\\my course\\IMG_20220425_230101.JPG\")\n",
    "#Creating object of Color class\n",
    "im3=ImageEnhance.Color(im)\n",
    "# Showing result image\n",
    "im3.enhance(10.0).show()\n"
   ]
  },
  {
   "cell_type": "code",
   "execution_count": null,
   "metadata": {},
   "outputs": [],
   "source": [
    "#import image and image enhancer module\n",
    "from PIL import Image, ImageEnhance\n",
    "#open the image\n",
    "im=Image.open(r\"C:\\Users\\91902\\Documents\\my course\\IMG_20220425_230101.JPG\")   \n",
    "#creating object of contrast class\n",
    "im3=ImageEnhance.Contrast(im)\n",
    "#showing resultant image\n",
    "im3.enhance(5.0).show()"
   ]
  },
  {
   "cell_type": "code",
   "execution_count": null,
   "metadata": {},
   "outputs": [],
   "source": [
    "#import image and image enhancer module\n",
    "from PIL import Image, ImageEnhance\n",
    "#open the image\n",
    "im=Image.open(r\"C:\\Users\\91902\\Documents\\my course\\IMG_20220425_230101.JPG\")   \n",
    "#creating object of contrast class\n",
    "im3=ImageEnhance.Brightness(im)\n",
    "#showing resultant image\n",
    "im3.enhance(1.5).show()"
   ]
  }
 ],
 "metadata": {
  "kernelspec": {
   "display_name": "base",
   "language": "python",
   "name": "python3"
  },
  "language_info": {
   "codemirror_mode": {
    "name": "ipython",
    "version": 3
   },
   "file_extension": ".py",
   "mimetype": "text/x-python",
   "name": "python",
   "nbconvert_exporter": "python",
   "pygments_lexer": "ipython3",
   "version": "3.10.9"
  },
  "orig_nbformat": 4,
  "vscode": {
   "interpreter": {
    "hash": "ddb05abf6ecdf78f1a86dd126733ceeced80efe27c054e02ab0cf37d45126361"
   }
  }
 },
 "nbformat": 4,
 "nbformat_minor": 2
}
