{
 "cells": [
  {
   "cell_type": "code",
   "execution_count": 28,
   "metadata": {},
   "outputs": [
    {
     "name": "stdout",
     "output_type": "stream",
     "text": [
      "no\n"
     ]
    }
   ],
   "source": [
    "a=10\n",
    "b=15\n",
    "if a>b:\n",
    "    print(\"yes\")\n",
    "else:\n",
    "    print(\"no\")\n",
    "    "
   ]
  },
  {
   "cell_type": "code",
   "execution_count": null,
   "metadata": {},
   "outputs": [],
   "source": [
    "a=5\n",
    "b=10\n",
    "c=15\n",
    "if a>b:\n",
    "    print(\"a is greater\")\n",
    "elif a>c:\n",
    "    print(\"a is also greater then c\")\n",
    "else \n",
    "\n",
    "\n"
   ]
  },
  {
   "cell_type": "code",
   "execution_count": 31,
   "metadata": {},
   "outputs": [
    {
     "name": "stdout",
     "output_type": "stream",
     "text": [
      "number is positive\n"
     ]
    }
   ],
   "source": [
    "num=10\n",
    "\n",
    "if num>=0:\n",
    "    if num==0:\n",
    "       print(\"number is zero\")\n",
    "    else:\n",
    "       print(\"number is positive\")\n",
    "else:\n",
    "   print(\"number is negative\")\n",
    "\n",
    "\n",
    "\n",
    "\n",
    "    \n",
    "\n",
    "\n",
    " \n"
   ]
  },
  {
   "cell_type": "code",
   "execution_count": null,
   "metadata": {},
   "outputs": [],
   "source": [
    "username=input('enter your name')\n",
    "email=input('Enter your email')\n",
    "pwd=input('enter newn password')\n",
    "pwd2=input('confirm your password')\n",
    "\n",
    "if len(username)>=4 and len(username)<=15:\n",
    "    if '@' in email and email.islower() and len(email)>10:\n",
    "        if len(pwd)>=6 and pwd!=username:\n",
    "            if pwd==pwd2:\n",
    "                print(\"hurry\")\n",
    "            else:\n",
    "                print(\"password is not match \")\n",
    "        else:\n",
    "            print(\"passworrd is invalid\")\n",
    "    else:\n",
    "        print(\"email is invalid\")\n",
    "else:\n",
    "    print(\"username is invalid\")\n",
    "            \n",
    "\n"
   ]
  },
  {
   "cell_type": "code",
   "execution_count": 1,
   "metadata": {},
   "outputs": [
    {
     "name": "stdout",
     "output_type": "stream",
     "text": [
      "True\n"
     ]
    }
   ],
   "source": [
    "x=4\n",
    "y=5\n",
    "z=x<y\n",
    "print(z)"
   ]
  },
  {
   "cell_type": "code",
   "execution_count": 3,
   "metadata": {},
   "outputs": [
    {
     "name": "stdout",
     "output_type": "stream",
     "text": [
      "helloworld\n"
     ]
    }
   ],
   "source": [
    "x=\"hello\"\n",
    "y=\"world\"\n",
    "x=x+y\n",
    "print(x)"
   ]
  },
  {
   "cell_type": "code",
   "execution_count": 4,
   "metadata": {},
   "outputs": [
    {
     "name": "stdout",
     "output_type": "stream",
     "text": [
      "24389\n"
     ]
    }
   ],
   "source": [
    "x=29\n",
    "x=29**3\n",
    "print(x)"
   ]
  },
  {
   "cell_type": "code",
   "execution_count": 6,
   "metadata": {},
   "outputs": [
    {
     "data": {
      "text/plain": [
       "0"
      ]
     },
     "execution_count": 6,
     "metadata": {},
     "output_type": "execute_result"
    }
   ],
   "source": [
    "x=5\n",
    "y=8\n",
    "x & y"
   ]
  },
  {
   "cell_type": "code",
   "execution_count": 7,
   "metadata": {},
   "outputs": [
    {
     "data": {
      "text/plain": [
       "13"
      ]
     },
     "execution_count": 7,
     "metadata": {},
     "output_type": "execute_result"
    }
   ],
   "source": [
    "x=5\n",
    "y=8\n",
    "x | y"
   ]
  },
  {
   "cell_type": "code",
   "execution_count": 11,
   "metadata": {},
   "outputs": [
    {
     "ename": "SyntaxError",
     "evalue": "invalid syntax (4274912271.py, line 3)",
     "output_type": "error",
     "traceback": [
      "\u001b[1;36m  Cell \u001b[1;32mIn[11], line 3\u001b[1;36m\u001b[0m\n\u001b[1;33m    x ! y\u001b[0m\n\u001b[1;37m      ^\u001b[0m\n\u001b[1;31mSyntaxError\u001b[0m\u001b[1;31m:\u001b[0m invalid syntax\n"
     ]
    }
   ],
   "source": [
    "x=5\n",
    "y=8\n",
    "x y"
   ]
  },
  {
   "cell_type": "code",
   "execution_count": 13,
   "metadata": {},
   "outputs": [
    {
     "data": {
      "text/plain": [
       "False"
      ]
     },
     "execution_count": 13,
     "metadata": {},
     "output_type": "execute_result"
    }
   ],
   "source": [
    "x=5\n",
    "y=5\n",
    "x is y\n",
    "x is not y"
   ]
  },
  {
   "cell_type": "code",
   "execution_count": 1,
   "metadata": {},
   "outputs": [
    {
     "ename": "ValueError",
     "evalue": "invalid literal for int() with base 10: ''",
     "output_type": "error",
     "traceback": [
      "\u001b[1;31m---------------------------------------------------------------------------\u001b[0m",
      "\u001b[1;31mValueError\u001b[0m                                Traceback (most recent call last)",
      "Cell \u001b[1;32mIn[1], line 1\u001b[0m\n\u001b[1;32m----> 1\u001b[0m x\u001b[39m=\u001b[39m\u001b[39mint\u001b[39;49m(\u001b[39minput\u001b[39;49m(\u001b[39m\"\u001b[39;49m\u001b[39menter string\u001b[39;49m\u001b[39m\"\u001b[39;49m))\n\u001b[0;32m      2\u001b[0m \u001b[39mprint\u001b[39m(x)\n",
      "\u001b[1;31mValueError\u001b[0m: invalid literal for int() with base 10: ''"
     ]
    }
   ],
   "source": [
    "x=int(input(\"enter string\"))\n",
    "print(x)\n"
   ]
  },
  {
   "attachments": {},
   "cell_type": "markdown",
   "metadata": {},
   "source": [
    "### index slicing ###"
   ]
  },
  {
   "cell_type": "code",
   "execution_count": null,
   "metadata": {},
   "outputs": [],
   "source": []
  },
  {
   "cell_type": "code",
   "execution_count": 4,
   "metadata": {},
   "outputs": [
    {
     "name": "stdout",
     "output_type": "stream",
     "text": [
      "total salary : 52000.0\n"
     ]
    }
   ],
   "source": [
    "designation = input(\"enter ur desgination\")\n",
    "match desgination :\n",
    "    case 'manager':\n",
    "        bs = 500000\n",
    "        bns = bs * .1 # 10 %\n",
    "        hra = bs * .2 # 10 %\n",
    "        ts = bs + bns + hra\n",
    "        print(f'total salary : {ts}')\n",
    "    case 'developer':\n",
    "        bs = 40000\n",
    "        bns = bs * .1 # 10 %\n",
    "        hra = bs * .2 # 20 %\n",
    "        ts = bs + bns + hra\n",
    "        print(f'total salary : {ts}')\n",
    "    case'tester':\n",
    "        bs = 500000\n",
    "        bns = bs * .1 # 10 %\n",
    "        hra = bs * .2 # 20 %\n",
    "        ts = bs + bns + hra\n",
    "        print(f'total salary : {ts}')\n",
    "    case _:\n",
    "        print(\"you are friend\")"
   ]
  },
  {
   "cell_type": "code",
   "execution_count": 1,
   "metadata": {},
   "outputs": [
    {
     "name": "stdout",
     "output_type": "stream",
     "text": [
      "Is that even a thing?\n"
     ]
    }
   ],
   "source": [
    "cpuModel = input('Enter your CPU moddel :')\n",
    "match cpuModel:\n",
    "    case \"celron\":\n",
    "        print(\"?Forget about it and play minesweeper instead...\")\n",
    "    case \"core i3\":\n",
    "        print(\"Good luck with that \")\n",
    "    case \"core i5\":\n",
    "        print(\"Yeah , you should be fine \")\n",
    "    case \"core i7\":\n",
    "        print(\"Have Fun\")\n",
    "    case \"core i9\":\n",
    "        print(\"our team desigend nice loadimg screens.. Too bed you won't see them...\")\n",
    "    case _:\n",
    "          print(\"Is that even a thing?\")\n",
    "\n",
    "          \n",
    "\n",
    "\n",
    "\n",
    "\n"
   ]
  },
  {
   "cell_type": "code",
   "execution_count": null,
   "metadata": {},
   "outputs": [],
   "source": []
  }
 ],
 "metadata": {
  "kernelspec": {
   "display_name": "base",
   "language": "python",
   "name": "python3"
  },
  "language_info": {
   "codemirror_mode": {
    "name": "ipython",
    "version": 3
   },
   "file_extension": ".py",
   "mimetype": "text/x-python",
   "name": "python",
   "nbconvert_exporter": "python",
   "pygments_lexer": "ipython3",
   "version": "3.10.9"
  },
  "orig_nbformat": 4
 },
 "nbformat": 4,
 "nbformat_minor": 2
}
