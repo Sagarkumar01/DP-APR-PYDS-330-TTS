{
 "cells": [
  {
   "cell_type": "code",
   "execution_count": 4,
   "metadata": {},
   "outputs": [
    {
     "name": "stdout",
     "output_type": "stream",
     "text": [
      "{'name': 'John', 'age': 25, 'course': ['Math', 'CompSci'], 'phone': '555-5555', 'address': '123 Main St', 'City': 'New York'}\n"
     ]
    }
   ],
   "source": [
    "student={'name':'John',\n",
    "         'age':25,\n",
    "         'course':['Math','CompSci'],\n",
    "         'phone':'555-5555',\n",
    "         'address':'123 Main St',\n",
    "         'City':'New York',}\n",
    "print(student)"
   ]
  },
  {
   "cell_type": "code",
   "execution_count": 6,
   "metadata": {},
   "outputs": [
    {
     "name": "stdout",
     "output_type": "stream",
     "text": [
      "John\n",
      "['Math', 'CompSci']\n"
     ]
    }
   ],
   "source": [
    "print(student['name'])\n",
    "print(student['course'])"
   ]
  },
  {
   "cell_type": "code",
   "execution_count": 10,
   "metadata": {},
   "outputs": [
    {
     "name": "stdout",
     "output_type": "stream",
     "text": [
      "John\n",
      "555-5555\n"
     ]
    }
   ],
   "source": [
    "print(student.get('name'))\n",
    "print(student.get('phone'))"
   ]
  },
  {
   "cell_type": "code",
   "execution_count": 16,
   "metadata": {},
   "outputs": [
    {
     "name": "stdout",
     "output_type": "stream",
     "text": [
      "{'name': 'John', 'age': 25, 'course': ['Math', 'CompSci'], 'phone': '555-5555', 'address': '123 Main St', 'City': 'New York', 'school': 'MIT', 'Father nmae': 'albert', 'mother nmae': 'Sansha', 'mother name': 'Sansha', 'dob': '27/08/2001'}\n"
     ]
    }
   ],
   "source": [
    "#to add a new key value pair\n",
    "student['school']='MIT'\n",
    "student['Father nmae']='albert'\n",
    "student['mother name']='Sansha'\n",
    "student['dob']='27/08/2001'\n",
    "\n",
    "print(student)"
   ]
  },
  {
   "cell_type": "code",
   "execution_count": 17,
   "metadata": {},
   "outputs": [
    {
     "name": "stdout",
     "output_type": "stream",
     "text": [
      "{'name': 'Radhe krishna', 'male lead': 'Sumedh Mudhgalkar', 'female lead': 'Malika Singh', 'ott': 'hotstar'}\n"
     ]
    }
   ],
   "source": [
    "show={'name':'Radhe krishna',\n",
    "      'male lead':'Sumedh Mudhgalkar',\n",
    "      'female lead':'Malika Singh',\n",
    "      'ott':'hotstar'\n",
    "      }\n",
    "print(show)"
   ]
  },
  {
   "cell_type": "code",
   "execution_count": 20,
   "metadata": {},
   "outputs": [
    {
     "name": "stdout",
     "output_type": "stream",
     "text": [
      "name\n",
      "male lead\n",
      "female lead\n",
      "ott\n"
     ]
    }
   ],
   "source": [
    "#to print key using loop\n",
    "for key in show:\n",
    "    print(key)"
   ]
  },
  {
   "cell_type": "code",
   "execution_count": 21,
   "metadata": {},
   "outputs": [
    {
     "name": "stdout",
     "output_type": "stream",
     "text": [
      "name Radhe krishna\n",
      "male lead Sumedh Mudhgalkar\n",
      "female lead Malika Singh\n",
      "ott hotstar\n"
     ]
    }
   ],
   "source": [
    "#to print key and value both using loop\n",
    "for k,v in show.items():\n",
    "    print(k,v)"
   ]
  },
  {
   "cell_type": "code",
   "execution_count": 22,
   "metadata": {},
   "outputs": [
    {
     "name": "stdout",
     "output_type": "stream",
     "text": [
      "Radhe krishna\n",
      "Sumedh Mudhgalkar\n",
      "Malika Singh\n",
      "hotstar\n"
     ]
    }
   ],
   "source": [
    "for v in show.values():\n",
    "    print(v)"
   ]
  },
  {
   "cell_type": "code",
   "execution_count": 26,
   "metadata": {},
   "outputs": [
    {
     "name": "stdout",
     "output_type": "stream",
     "text": [
      "dict_values(['Radhe krishna', 'Sumedh Mudhgalkar', 'Malika Singh', 'hotstar'])\n",
      "dict_keys(['name', 'male lead', 'female lead', 'ott'])\n",
      "dict_items([('name', 'Radhe krishna'), ('male lead', 'Sumedh Mudhgalkar'), ('female lead', 'Malika Singh'), ('ott', 'hotstar')])\n"
     ]
    }
   ],
   "source": [
    "print(show.values())\n",
    "print(show.keys())\n",
    "print(show.items())"
   ]
  },
  {
   "cell_type": "code",
   "execution_count": 27,
   "metadata": {},
   "outputs": [
    {
     "name": "stdout",
     "output_type": "stream",
     "text": [
      "[2, 3, 4, 6, 7, 8, 9, 10, 11, 12, 13, 14, 15, 16, 17, 18, 19, 20]\n"
     ]
    }
   ],
   "source": [
    "a=[2,3,4,5,6,7,8,9,10,11,12,13,14,15,16,17,18,19,20,]\n",
    "b=int(input(\"Enter th position\"))\n",
    "a.remove(a[b])\n",
    "print(a)"
   ]
  },
  {
   "cell_type": "code",
   "execution_count": null,
   "metadata": {},
   "outputs": [],
   "source": []
  }
 ],
 "metadata": {
  "kernelspec": {
   "display_name": "base",
   "language": "python",
   "name": "python3"
  },
  "language_info": {
   "codemirror_mode": {
    "name": "ipython",
    "version": 3
   },
   "file_extension": ".py",
   "mimetype": "text/x-python",
   "name": "python",
   "nbconvert_exporter": "python",
   "pygments_lexer": "ipython3",
   "version": "3.10.9"
  },
  "orig_nbformat": 4
 },
 "nbformat": 4,
 "nbformat_minor": 2
}
