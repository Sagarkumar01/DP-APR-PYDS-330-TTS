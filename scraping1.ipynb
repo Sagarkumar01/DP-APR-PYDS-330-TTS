{
 "cells": [
  {
   "attachments": {},
   "cell_type": "markdown",
   "metadata": {},
   "source": [
    "import library function\n"
   ]
  },
  {
   "cell_type": "code",
   "execution_count": 3,
   "metadata": {},
   "outputs": [],
   "source": [
    "from dputils.scrape import Tag, Scraper     #tag and scraper are classes"
   ]
  },
  {
   "cell_type": "code",
   "execution_count": 4,
   "metadata": {},
   "outputs": [],
   "source": [
    "url = \"https://timesofindia.indiatimes.com/news\"\n",
    "news_scraper = Scraper(url)"
   ]
  },
  {
   "cell_type": "code",
   "execution_count": 5,
   "metadata": {},
   "outputs": [
    {
     "name": "stdout",
     "output_type": "stream",
     "text": [
      "\u001b[1;31mInit signature:\u001b[0m\n",
      "\u001b[0mTag\u001b[0m\u001b[1;33m(\u001b[0m\u001b[1;33m\n",
      "\u001b[0m    \u001b[0mname\u001b[0m\u001b[1;33m:\u001b[0m \u001b[0mstr\u001b[0m \u001b[1;33m=\u001b[0m \u001b[1;34m'div'\u001b[0m\u001b[1;33m,\u001b[0m\u001b[1;33m\n",
      "\u001b[0m    \u001b[0moutput\u001b[0m\u001b[1;33m:\u001b[0m \u001b[0mstr\u001b[0m \u001b[1;33m=\u001b[0m \u001b[1;34m'text'\u001b[0m\u001b[1;33m,\u001b[0m\u001b[1;33m\n",
      "\u001b[0m    \u001b[0mcls\u001b[0m\u001b[1;33m:\u001b[0m \u001b[0mstr\u001b[0m \u001b[1;33m=\u001b[0m \u001b[1;32mNone\u001b[0m\u001b[1;33m,\u001b[0m\u001b[1;33m\n",
      "\u001b[0m    \u001b[0mid\u001b[0m\u001b[1;33m:\u001b[0m \u001b[0mstr\u001b[0m \u001b[1;33m=\u001b[0m \u001b[1;32mNone\u001b[0m\u001b[1;33m,\u001b[0m\u001b[1;33m\n",
      "\u001b[0m    \u001b[0mattrs\u001b[0m\u001b[1;33m:\u001b[0m \u001b[0mdict\u001b[0m \u001b[1;33m=\u001b[0m \u001b[1;32mNone\u001b[0m\u001b[1;33m,\u001b[0m\u001b[1;33m\n",
      "\u001b[0m\u001b[1;33m)\u001b[0m \u001b[1;33m->\u001b[0m \u001b[1;32mNone\u001b[0m\u001b[1;33m\u001b[0m\u001b[1;33m\u001b[0m\u001b[0m\n",
      "\u001b[1;31mDocstring:\u001b[0m      Tag(name: str = 'div', output: str = 'text', cls: str = None, id: str = None, attrs: dict = None)\n",
      "\u001b[1;31mFile:\u001b[0m           c:\\users\\91902\\miniconda3\\lib\\site-packages\\dputils\\scrape.py\n",
      "\u001b[1;31mType:\u001b[0m           type\n",
      "\u001b[1;31mSubclasses:\u001b[0m     "
     ]
    }
   ],
   "source": [
    "Tag?"
   ]
  },
  {
   "cell_type": "code",
   "execution_count": 6,
   "metadata": {},
   "outputs": [
    {
     "name": "stdout",
     "output_type": "stream",
     "text": [
      "\u001b[1;31mInit signature:\u001b[0m\n",
      "\u001b[0mScraper\u001b[0m\u001b[1;33m(\u001b[0m\u001b[1;33m\n",
      "\u001b[0m    \u001b[0murl\u001b[0m\u001b[1;33m:\u001b[0m \u001b[0mstr\u001b[0m\u001b[1;33m,\u001b[0m\u001b[1;33m\n",
      "\u001b[0m    \u001b[0muser_agent\u001b[0m\u001b[1;33m:\u001b[0m \u001b[0mstr\u001b[0m \u001b[1;33m=\u001b[0m \u001b[1;32mNone\u001b[0m\u001b[1;33m,\u001b[0m\u001b[1;33m\n",
      "\u001b[0m    \u001b[0mcookies\u001b[0m\u001b[1;33m:\u001b[0m \u001b[0mdict\u001b[0m \u001b[1;33m=\u001b[0m \u001b[1;32mNone\u001b[0m\u001b[1;33m,\u001b[0m\u001b[1;33m\n",
      "\u001b[0m    \u001b[0mclean\u001b[0m\u001b[1;33m:\u001b[0m \u001b[0mbool\u001b[0m \u001b[1;33m=\u001b[0m \u001b[1;32mFalse\u001b[0m\u001b[1;33m,\u001b[0m\u001b[1;33m\n",
      "\u001b[0m\u001b[1;33m)\u001b[0m\u001b[1;33m\u001b[0m\u001b[1;33m\u001b[0m\u001b[0m\n",
      "\u001b[1;31mDocstring:\u001b[0m      <no docstring>\n",
      "\u001b[1;31mInit docstring:\u001b[0m\n",
      "Initializes Scraper class\n",
      "Args:\n",
      "    url: url of the webpage\n",
      "    user_agent: user agent of the browser (Default value = None)\n",
      "    cookies: cookies of the browser (Default value = None)\n",
      "    clean: cleans url (Default value = True)\n",
      "\u001b[1;31mFile:\u001b[0m           c:\\users\\91902\\miniconda3\\lib\\site-packages\\dputils\\scrape.py\n",
      "\u001b[1;31mType:\u001b[0m           type\n",
      "\u001b[1;31mSubclasses:\u001b[0m     "
     ]
    }
   ],
   "source": [
    "Scraper?"
   ]
  },
  {
   "cell_type": "code",
   "execution_count": 7,
   "metadata": {},
   "outputs": [],
   "source": [
    "target= Tag(cls = 'listing4')\n",
    "items = Tag('li')\n",
    "title =Tag('span', cls = 'w_tle')\n",
    "desc = Tag('span', cls='w_desc')"
   ]
  },
  {
   "cell_type": "code",
   "execution_count": 8,
   "metadata": {},
   "outputs": [],
   "source": [
    "result=news_scraper.get_all(target, items, heading=title,  desc=desc)"
   ]
  },
  {
   "cell_type": "code",
   "execution_count": 9,
   "metadata": {},
   "outputs": [],
   "source": [
    "import pandas as pd"
   ]
  },
  {
   "cell_type": "code",
   "execution_count": 10,
   "metadata": {},
   "outputs": [
    {
     "data": {
      "text/html": [
       "<div>\n",
       "<style scoped>\n",
       "    .dataframe tbody tr th:only-of-type {\n",
       "        vertical-align: middle;\n",
       "    }\n",
       "\n",
       "    .dataframe tbody tr th {\n",
       "        vertical-align: top;\n",
       "    }\n",
       "\n",
       "    .dataframe thead th {\n",
       "        text-align: right;\n",
       "    }\n",
       "</style>\n",
       "<table border=\"1\" class=\"dataframe\">\n",
       "  <thead>\n",
       "    <tr style=\"text-align: right;\">\n",
       "      <th></th>\n",
       "      <th>heading</th>\n",
       "      <th>desc</th>\n",
       "    </tr>\n",
       "  </thead>\n",
       "  <tbody>\n",
       "    <tr>\n",
       "      <th>0</th>\n",
       "      <td>Won't help Congress in Lok Sabha polls if it a...</td>\n",
       "      <td>Ahead of the June 23 opposition meet in Patna,...</td>\n",
       "    </tr>\n",
       "    <tr>\n",
       "      <th>1</th>\n",
       "      <td>Biparjoy live: Shah conducts aerial survey, vi...</td>\n",
       "      <td></td>\n",
       "    </tr>\n",
       "    <tr>\n",
       "      <th>2</th>\n",
       "      <td>'He'd force me to have sex when I was unwell'</td>\n",
       "      <td>From forced sex to infidelity to ghosting, fou...</td>\n",
       "    </tr>\n",
       "    <tr>\n",
       "      <th>3</th>\n",
       "      <td>No wheelchair for injured son, lawyer takes EV...</td>\n",
       "      <td>Creating a bizarre scene, an advocate in Kota,...</td>\n",
       "    </tr>\n",
       "    <tr>\n",
       "      <th>4</th>\n",
       "      <td>Noida: Parents asleep, 5-yr-old falls from 8th...</td>\n",
       "      <td>A five-year-old boy who had walked out of bed ...</td>\n",
       "    </tr>\n",
       "    <tr>\n",
       "      <th>5</th>\n",
       "      <td>Trooping the Colour: Why does King Charles III...</td>\n",
       "      <td></td>\n",
       "    </tr>\n",
       "    <tr>\n",
       "      <th>6</th>\n",
       "      <td>Can a Mughal emperor swing an election in Maha...</td>\n",
       "      <td>​The emergence of Aurangzeb in Maharashtra pol...</td>\n",
       "    </tr>\n",
       "    <tr>\n",
       "      <th>7</th>\n",
       "      <td>Would rather die: Gadkari recalls reply on off...</td>\n",
       "      <td>Gadkari also asserted that the BJP government ...</td>\n",
       "    </tr>\n",
       "    <tr>\n",
       "      <th>8</th>\n",
       "      <td>‘Biggest companies’ in India’s smart home secu...</td>\n",
       "      <td></td>\n",
       "    </tr>\n",
       "    <tr>\n",
       "      <th>9</th>\n",
       "      <td>Expatriate Indian prepares his car with ‘NModi...</td>\n",
       "      <td>Washington DC (USA), June 17 (ANI): Indian ori...</td>\n",
       "    </tr>\n",
       "    <tr>\n",
       "      <th>10</th>\n",
       "      <td>Not linked PAN with Aadhaar, pay Rs 1,000 fine...</td>\n",
       "      <td></td>\n",
       "    </tr>\n",
       "    <tr>\n",
       "      <th>11</th>\n",
       "      <td>Mobs clash with security forces in Imphal in f...</td>\n",
       "      <td>Amid the prevailing unrest in Manipur, another...</td>\n",
       "    </tr>\n",
       "    <tr>\n",
       "      <th>12</th>\n",
       "      <td>How to get Google to write your emails using G...</td>\n",
       "      <td></td>\n",
       "    </tr>\n",
       "    <tr>\n",
       "      <th>13</th>\n",
       "      <td>Biden royally baffles audience with 'God save ...</td>\n",
       "      <td>Joe Biden on Friday left Americans scratching ...</td>\n",
       "    </tr>\n",
       "    <tr>\n",
       "      <th>14</th>\n",
       "      <td>38 students among 41 killed in rebel attack on...</td>\n",
       "      <td></td>\n",
       "    </tr>\n",
       "    <tr>\n",
       "      <th>15</th>\n",
       "      <td>NIA to probe attacks on Indian High Commission...</td>\n",
       "      <td>FIRs were registered under the Unlawful Activi...</td>\n",
       "    </tr>\n",
       "    <tr>\n",
       "      <th>16</th>\n",
       "      <td>34k affected in Assam floods, Lakhimpur worst hit</td>\n",
       "      <td>Over 5,000 more people have been affected in t...</td>\n",
       "    </tr>\n",
       "    <tr>\n",
       "      <th>17</th>\n",
       "      <td>Love-jihad is defaming Islam, Muslims must opp...</td>\n",
       "      <td>Conversion is not a good thing. In any civilis...</td>\n",
       "    </tr>\n",
       "    <tr>\n",
       "      <th>18</th>\n",
       "      <td>Kourtney Kardashian, 44, announces pregnancy w...</td>\n",
       "      <td>Kourtney Kardashian surprised everyone by anno...</td>\n",
       "    </tr>\n",
       "    <tr>\n",
       "      <th>19</th>\n",
       "      <td>NE diary: Why is India so indifferent to Manip...</td>\n",
       "      <td></td>\n",
       "    </tr>\n",
       "    <tr>\n",
       "      <th>20</th>\n",
       "      <td>None</td>\n",
       "      <td>None</td>\n",
       "    </tr>\n",
       "    <tr>\n",
       "      <th>21</th>\n",
       "      <td>None</td>\n",
       "      <td>None</td>\n",
       "    </tr>\n",
       "    <tr>\n",
       "      <th>22</th>\n",
       "      <td>None</td>\n",
       "      <td>None</td>\n",
       "    </tr>\n",
       "  </tbody>\n",
       "</table>\n",
       "</div>"
      ],
      "text/plain": [
       "                                              heading   \n",
       "0   Won't help Congress in Lok Sabha polls if it a...  \\\n",
       "1   Biparjoy live: Shah conducts aerial survey, vi...   \n",
       "2       'He'd force me to have sex when I was unwell'   \n",
       "3   No wheelchair for injured son, lawyer takes EV...   \n",
       "4   Noida: Parents asleep, 5-yr-old falls from 8th...   \n",
       "5   Trooping the Colour: Why does King Charles III...   \n",
       "6   Can a Mughal emperor swing an election in Maha...   \n",
       "7   Would rather die: Gadkari recalls reply on off...   \n",
       "8   ‘Biggest companies’ in India’s smart home secu...   \n",
       "9   Expatriate Indian prepares his car with ‘NModi...   \n",
       "10  Not linked PAN with Aadhaar, pay Rs 1,000 fine...   \n",
       "11  Mobs clash with security forces in Imphal in f...   \n",
       "12  How to get Google to write your emails using G...   \n",
       "13  Biden royally baffles audience with 'God save ...   \n",
       "14  38 students among 41 killed in rebel attack on...   \n",
       "15  NIA to probe attacks on Indian High Commission...   \n",
       "16  34k affected in Assam floods, Lakhimpur worst hit   \n",
       "17  Love-jihad is defaming Islam, Muslims must opp...   \n",
       "18  Kourtney Kardashian, 44, announces pregnancy w...   \n",
       "19  NE diary: Why is India so indifferent to Manip...   \n",
       "20                                               None   \n",
       "21                                               None   \n",
       "22                                               None   \n",
       "\n",
       "                                                 desc  \n",
       "0   Ahead of the June 23 opposition meet in Patna,...  \n",
       "1                                                      \n",
       "2   From forced sex to infidelity to ghosting, fou...  \n",
       "3   Creating a bizarre scene, an advocate in Kota,...  \n",
       "4   A five-year-old boy who had walked out of bed ...  \n",
       "5                                                      \n",
       "6   ​The emergence of Aurangzeb in Maharashtra pol...  \n",
       "7   Gadkari also asserted that the BJP government ...  \n",
       "8                                                      \n",
       "9   Washington DC (USA), June 17 (ANI): Indian ori...  \n",
       "10                                                     \n",
       "11  Amid the prevailing unrest in Manipur, another...  \n",
       "12                                                     \n",
       "13  Joe Biden on Friday left Americans scratching ...  \n",
       "14                                                     \n",
       "15  FIRs were registered under the Unlawful Activi...  \n",
       "16  Over 5,000 more people have been affected in t...  \n",
       "17  Conversion is not a good thing. In any civilis...  \n",
       "18  Kourtney Kardashian surprised everyone by anno...  \n",
       "19                                                     \n",
       "20                                               None  \n",
       "21                                               None  \n",
       "22                                               None  "
      ]
     },
     "execution_count": 10,
     "metadata": {},
     "output_type": "execute_result"
    }
   ],
   "source": [
    "df = pd.DataFrame(result)\n",
    "df"
   ]
  },
  {
   "cell_type": "code",
   "execution_count": 11,
   "metadata": {},
   "outputs": [
    {
     "data": {
      "text/plain": [
       "<Axes: >"
      ]
     },
     "execution_count": 11,
     "metadata": {},
     "output_type": "execute_result"
    },
    {
     "data": {
      "image/png": "[encoded data removed]",
      "text/plain": [
       "<Figure size 1000x500 with 1 Axes>"
      ]
     },
     "metadata": {},
     "output_type": "display_data"
    }
   ],
   "source": [
    "df.isnull().sum().plot(kind='bar',figsize=(10,5),color='red')"
   ]
  },
  {
   "attachments": {},
   "cell_type": "markdown",
   "metadata": {},
   "source": [
    "secound \n"
   ]
  },
  {
   "cell_type": "code",
   "execution_count": 12,
   "metadata": {},
   "outputs": [],
   "source": [
    "url = 'https://www.amazon.in/s?k=laptop&i=computers&rh=n%3A1375424031&dc&ds=v1%3AlCF7LLroJK2pANKjOqqEonOM6h8ntVveBLMwcCIDNTo&qid=1686911576&rnid=3837712031&ref=sr_nr_p_89_1'"
   ]
  },
  {
   "cell_type": "code",
   "execution_count": 13,
   "metadata": {},
   "outputs": [],
   "source": [
    "amazon_scraper = Scraper(url)"
   ]
  },
  {
   "cell_type": "code",
   "execution_count": 14,
   "metadata": {},
   "outputs": [],
   "source": [
    "target = Tag(cls='s-main-slot s-result-list s-search-results sg-row')\n",
    "items = Tag(cls = 's-result-item')\n",
    "title = Tag('h2', cls='a-size-mini a-spacing-none a-color-base s-line-clamp-2')\n",
    "price = Tag('span', cls='a-price')"
   ]
  },
  {
   "cell_type": "code",
   "execution_count": 15,
   "metadata": {},
   "outputs": [
    {
     "data": {
      "text/plain": [
       "[{'heading': None, 'price': None},\n",
       " {'heading': None, 'price': None},\n",
       " {'heading': 'Lenovo IdeaPad Slim 3 Intel Core i3 11th Gen 14\" (35.56cm) FHD Thin & Light Laptop (8GB/512GB SSD/Windows 11/Office 2021/2Yr Warranty/3months Game Pass/Arctic Grey/1.41Kg), 82H701DNIN  ',\n",
       "  'price': '₹37,490₹37,490'},\n",
       " {'heading': 'Lenovo IdeaPad Slim 3 Intel Core i7 11th Gen 15.6\" (39.62cm) FHD Laptop (16GB/512GB SSD/Win 11/Office 2021/2 Years Warranty/Arctic Grey/1.65Kg), 82H803B6IN  ',\n",
       "  'price': '₹62,990₹62,990'},\n",
       " {'heading': 'Lenovo V15 Intel Celeron N4500 15.6\" (39.62 cm) FHD (1920x1080) Antiglare 250 Nits Thin and Light Laptop (8GB RAM/256GB SSD/Windows 11 Home/Black/1Y Onsite/1.7 kg), 82QYA00MIN  ',\n",
       "  'price': '₹23,319₹23,319'},\n",
       " {'heading': 'HP Laptop 15s, Intel Celeron N4500, 15.6 inch(39.6cm) HD Laptop (8GB RAM,512GB SSD,Intel UHD Graphics,Dual Speakers,Numeric Keypad,Alexa,Win 11,MSO 21,Natural Silver,1.69 Kgs) 15s-fq3071TU  ',\n",
       "  'price': '₹29,990₹29,990'},\n",
       " {'heading': 'HP 247 G8 Laptop (AMD Athlon P-3045B HD/ 14 inches(35.5cm) HD /8GB RAM DDR4 /1TB HDD/Windows 11 Home/ W11 SL) One Year Warranty, Black, 67U77PA  ',\n",
       "  'price': '₹23,390₹23,390'},\n",
       " {'heading': '(Renewed) HP Chromebook 13 G1 6th Gen Intel Core m5 FHD Thin & Light Laptop (8 GB RAM/32 GB eMMC Storage/13.3\" (33.8 cm) FHD/Chrome OS/WiFi/Bluetooth/Webcam/Intel Graphics)  ',\n",
       "  'price': '₹15,999₹15,999'},\n",
       " {'heading': 'Lenovo IdeaPad Slim 3 Intel Core i3-1115G4 11th Gen 15.6\" (39.62cm) FHD Laptop (8GB/256GB SSD/Win 11/Office 2021/2 Year Warranty/3 Month Game Pass/Arctic Grey/1.65Kg), 82H803GTIN  ',\n",
       "  'price': '₹35,990₹35,990'},\n",
       " {'heading': \"Xiaomi Notebook Pro Max 11th Gen Intel Core i5-11320H Thin & Light (16GB/512GB SSD/Iris Xe Graphics/14″ QHD+ Display/2.5K Resolution/Win 11/Thunderbolt 4/MS Office '21/Fingerprint Sensor/1.4 Kg)  \",\n",
       "  'price': '₹53,999₹53,999'},\n",
       " {'heading': 'Apple 2020 MacBook Air Laptop M1 chip, 13.3-inch/33.74 cm Retina Display, 8GB RAM, 256GB SSD Storage, Backlit Keyboard, FaceTime HD Camera, Touch ID. Works with iPhone/iPad; Gold  ',\n",
       "  'price': '₹81,990₹81,990'},\n",
       " {'heading': 'HP 15s,11th Gen Intel Core i3-1115G4 8GB RAM/512GB SSD 15.6-inch(39.6 cm) Micro-Edge Anti-Glare FHD Laptop/Alexa Built-in/Win 11/Intel UHD Graphics/Dual Speakers/MS Office 2021/1.69 Kg, 15s-fq2673TU  ',\n",
       "  'price': '₹39,990₹39,990'},\n",
       " {'heading': 'Lenovo IdeaPad Flex 5 AMD Ryzen 5 5500U 14\" (35.56cm) WUXGA IPS 2-in-1 Convertible Touchscreen Laptop (16GB/512GB SDD/Win11/Office 2021/Backlit/FPR/3months Game Pass/Storm Grey/1.55Kg), 82R9008GIN  ',\n",
       "  'price': '₹61,990₹61,990'},\n",
       " {'heading': 'Lenovo IdeaPad Slim 3 Intel Core i5 12th Gen 15.6\" (39.62cm) FHD Thin & Light Laptop (16GB/512GB SSD/Windows 11/Office 2021/Backlit/2Yr Warranty/3months Game Pass/Arctic Grey/1.63Kg), 82RK0085IN  ',\n",
       "  'price': '₹58,149₹58,149'},\n",
       " {'heading': 'Lenovo V14-IGL Laptop Intel Celeron N4020/4GB DDR4 RAM/256GB SSD/DOS/14.0 HD/Intel UHD Graphics 600/1 Year Warranty  ',\n",
       "  'price': '₹19,999₹19,999'},\n",
       " {'heading': 'ASUS TUF Gaming A15, 15.6-inch (39.62 cms) FHD 144Hz, AMD Ryzen 5 4600H, 4GB NVIDIA GeForce GTX 1650, Gaming Laptop (8GB/512GB SSD/Windows 11/Black/2.3 Kg), FA506IHRZ-HN111W  ',\n",
       "  'price': '₹54,990₹54,990'},\n",
       " {'heading': 'AXL Laptop (Vayu Book) Newly Launched Thin & Light | 14.1 Inch HD Display (4GB/128GB SSD | 1920 * 1080 FHD IPS | HD Gemini Lake N4020 | Windows 11 Home | UHD Graphics 600 | Space Grey  ',\n",
       "  'price': '₹16,999₹16,999'},\n",
       " {'heading': None, 'price': None},\n",
       " {'heading': 'HP 14s, 11th Gen Intel Core i3-1115G4, 8GB RAM/256GB SSD 14-inch(35.6 cm) Micro-Edge, Anti-Glare, FHD Laptop/Alexa Built-in/Win 11/Intel UHD Graphics/Dual Speakers/MSO 2021/1.41 Kg, 14s-dy2507TU  ',\n",
       "  'price': '₹36,490₹36,490'},\n",
       " {'heading': 'ASUS Vivobook 14 2022, Intel Core i3-1115G4 11th Gen, 14\" (35.56 cms) FHD, Thin & Light Laptop (8GB/512GB SSD/Win11/Office 2021/37WHr/Transparent Silver/1.60 kg), X1400EA-EK322WS  ',\n",
       "  'price': '₹34,990₹34,990'},\n",
       " {'heading': 'HP 14s, AMD Ryzen 5-5500U 14 inches(35cm) FHD, IPS, Micro-Edge Display Laptop (8GB RAM/512GB SSD/Radeon Graphics/Windows 11/Alexa/Backlit Keyboard/MS Office/1.46kg, 14s-fq1092au)  ',\n",
       "  'price': '₹44,990₹44,990'},\n",
       " {'heading': 'Lenovo Ideapad 3 AMD Ryzen 5 5500U 15.6\" (39.62cm) FHD Thin & Light Laptop (8GB/512GB SSD/Windows 11/Office 2021/Backlit Keyboard/2Yr Warranty/Arctic Grey/1.65Kg), 82KU017KIN  ',\n",
       "  'price': '₹43,975₹43,975'},\n",
       " {'heading': 'Acer Extensa 15 Intel Core i3 N305 8 core Processor (8 GB/512 GB SSD/Win11 Home/MS Office Home and Student/Intel UHD Graphics/1.7 KG/Silver) EX215-33 FHD Display Laptop  ',\n",
       "  'price': '₹33,990₹33,990'},\n",
       " {'heading': 'Apple 2022 MacBook Pro Laptop with M2 chip: 33.74 cm (13.3-inch) Retina Display, 8GB RAM, 256GB SSD \\u200b\\u200b\\u200b\\u200b\\u200b\\u200b\\u200bStorage, Touch Bar, Backlit Keyboard, FaceTime HD Camera\\u200b\\u200b\\u200b; Space Grey \\u200b\\u200b\\u200b\\u200b\\u200b\\u200b\\u200b  ',\n",
       "  'price': '₹1,15,990₹1,15,990'},\n",
       " {'heading': 'Lenovo Yoga 7 Intel Evo Core i7 12th Gen 14\"(35.56cm) 2.8K OLED 2-in-1 Convertible Touchscreen Laptop (16GB/512GB SSD/Win11/Office/Digital Pen/3Yr Warranty/Storm Grey/Metal Surface/1.42Kg), 82QE009SIN  ',\n",
       "  'price': '₹1,21,990₹1,21,990'},\n",
       " {'heading': 'Lenovo E41-55 AMD 14-inch HD 220 Nits Antiglare Thin and Light Laptop (AMD Athlon A3050U/4GB RAM/256GB SSD/DOS/Integrated AMD Graphics/Grey/1 Year Onsite/1.59 kg), 82FJ00BEIH  ',\n",
       "  'price': '₹17,990₹17,990'},\n",
       " {'heading': '(Renewed) DELL Latitude 5490 Core i5 7th Gen Laptop, 16 GB RAM, 512GB SSD, Intel HD Graphics, 14 inch (36.83 cms) HD Screen, Windows 11 (Upgraded), MS Office, Black, Slim  ',\n",
       "  'price': '₹24,999₹24,999'},\n",
       " {'heading': 'ASUS Vivobook 14, Intel Core i3-1115G4 11th Gen, 14\" (35.56 cm) FHD, Thin and Light Laptop (8GB/512GB SSD/Office 2021/Windows 11 Home/Integrated Graphics/Fingerprint/Silver/1.6 kg), X415EA-EB322WS  ',\n",
       "  'price': '₹35,056₹35,056'},\n",
       " {'heading': 'ASUS Vivobook Go 15 (2023), Intel Core i3-N305, 15.6\" (39.62 cms) FHD, Thin and Light Laptop (8GB/512GB SSD/Integrated Graphics/Windows 11/Office 2021/Backlit KB/Black/1.63 kg), E1504GA-NJ322WS  ',\n",
       "  'price': '₹38,990₹38,990'},\n",
       " {'heading': '(Renewed) Lenovo ThinkPad T Series T450 (20BV0064US) Laptop Intel Core i5 5300U (2.30 GHz) 4 GB Memory 500 GB HDD 14 1366 x 768 Intel HD Graphics 5500 Windows 7 Professional 64-Bit / Windows 10 Pro Downgrade inches  ',\n",
       "  'price': '₹13,758₹13,758'},\n",
       " {'heading': 'ASUS VivoBook 15 (2021), 15.6-inch (39.62 cm) HD, Dual Core Intel Celeron N4020, Thin and Light Laptop (4GB RAM/256GB SSD/Integrated Graphics/Windows 11 Home/Transparent Silver/1.8 Kg), X515MA-BR011W  ',\n",
       "  'price': '₹25,990₹25,990'},\n",
       " {'heading': '(Renewed) DELL Latitude 5490 Core i5 7th Gen Laptop, 16 GB RAM, 256GB SSD, Intel HD Graphics, 14 inch (36.83 cms) HD Screen, Windows 11 (Upgraded), MS Office, Black, Slim  ',\n",
       "  'price': '₹21,499₹21,499'},\n",
       " {'heading': 'ASUS Vivobook 15 (2022), 15.6\" (39.62 cms) FHD, Intel Core i3-1220P 12th Gen, Thin and Light Laptop (8GB/512GB SSD/Iris Xe Graphics/Windows 11/Office 2021/Silver/1.7 kg), X1502ZA-EJ331WS  ',\n",
       "  'price': '₹41,649₹41,649'},\n",
       " {'heading': 'Lenovo E41-55 AMD 14-inch HD 220 Nits Antiglare Thin and Light Laptop (Athlon Silver 3050U/8GB RAM/256 SSD/DOS/Integrated AMD Graphics/Grey/1 Year Onsite/1.59 kg)  ',\n",
       "  'price': '₹19,990₹19,990'},\n",
       " {'heading': '(Refurbished) Lenovo ThinkPad 6th Gen Intel Core i5 Thin & Light HD Laptop (8 GB RAM/256 GB SSD/14\" (35.  ',\n",
       "  'price': '₹17,799₹17,799'},\n",
       " {'heading': 'Acer Extensa 15 AMD Ryzen™ 3 7320U Quad-Core Processor (8 GB/256 GB SSD/Windows 11 Home/AMD Radeon Graphics/1.78 KG/Steel Gray) EX215-23 Full HD Display Laptop  ',\n",
       "  'price': '₹29,990₹29,990'},\n",
       " {'heading': '(Renewed) DELL Latitude 3380 Core i5 7th Gen Laptop, 8 GB RAM, 512gb SSD, Intel HD Graphics, 13.3 inch HD Screen, Windows 11 (Upgraded), MS Office, Black, Slim  ',\n",
       "  'price': '₹18,999₹18,999'},\n",
       " {'heading': 'Honor MagicBook 14, AMD Ryzen 5 5500U 14-inch (35.56 cm) FHD IPS Anti-Glare Thin and Light Laptop (16GB/512GB PCIe SSD/Windows 11/Fingerprint Login/Metal Body/Backlit KB/1.38Kg), Mystic Silver  ',\n",
       "  'price': '₹41,990₹41,990'},\n",
       " {'heading': 'HP 14s, AMD Athlon Silver 3050U, 8GB RAM/256GB SSD 14-inch(35.6 cm) HD,Micro-Edge Display/Win 11/AMD Radeon Graphics/Dual Speakers/MSO 2021/Fast Charge/1.41 Kg, 14s-fq0568AU  ',\n",
       "  'price': '₹27,490₹27,490'},\n",
       " {'heading': 'HP 14s, Intel Celeron N4500, 8GB RAM/256GB SSD 14-inches/35.6 cm HD, Micro-Edge Display/Alexa Built-in/Windows 11/Intel UHD Graphics/Dual Speakers/MSO 2021/1.46 Kg, 14s-dq3037tu  ',\n",
       "  'price': '₹28,490₹28,490'},\n",
       " {'heading': 'Lenovo IdeaPad Slim 3 Intel Celeron N4020 4th Gen 15.6\" (39.62cm) HD 220nits Anti-Glare (8GB/256GB SDD/Windows 11/Office 2021/2Yr Warranty/3months Game Pass/Platinum Grey/1.7Kg), 81WQ00NXIN  ',\n",
       "  'price': '₹26,989₹26,989'},\n",
       " {'heading': '(Renewed) Dell Latitude Laptop E5480 Intel Core i5 7th Gen. - 7300u Processor, 8 GB Ram & 512 GB SSD, 14.1 inches Full HD Screen Notebook Computer Windows 10 Pro  ',\n",
       "  'price': '₹21,821₹21,821'},\n",
       " {'heading': 'Lenovo IdeaPad Slim 3 Intel Core i3 11th Gen 14\" (35.56cm) FHD Thin & Light Laptop (8GB/512GB SSD/Windows 11/Office 2021/2Yr Warranty/3months Game Pass/Arctic Grey/1.41Kg), 82H701DNIN  ',\n",
       "  'price': '₹37,490₹37,490'},\n",
       " {'heading': 'Dell Vostro 3420 Laptop,12th Gen Intel Core i3-1215U, 8GB & 512GB SSD, 14.0\" (35.56Cms) FHD WVA AG 250 nits, Win11+MSO\\'21, 15 Month McAfee, Black, 1.48 KGs  ',\n",
       "  'price': '₹41,490₹41,490'},\n",
       " {'heading': 'HP Victus Gaming Latest AMD Ryzen 5-5600H Processor 16.1 inch(40.9 cm) FHD Gaming Laptop(8Gb RAM/512Gb SSD/4Gb Geforce RTX 3050 Graphics/144 Hz/7Ms Response Time/Win 11/MSO/B&O/Xbox Pass) 16-E0350AX  ',\n",
       "  'price': '₹63,490₹63,490'},\n",
       " {'heading': 'ASUS Vivobook 16X, AMD Ryzen 7 5800H, 16\" (40.64 cm) WUXGA, Thin & Light Laptop (16GB/512GB SSD/Integrated Graphics/Windows 11/Office 2021/Backlit/Fingerprint/Silver/1.88 kg), M1603QA-MB742WS  ',\n",
       "  'price': '₹58,990₹58,990'},\n",
       " {'heading': 'HP 15s, Ryzen 5-5500U, 16GB RAM/512GB SSD 15.6-inches(39.6 cm) FHD, Micro-Edge, Anti-Glare Laptop/Alexa Built-in/Windows 11 /AMD Radeon Graphics/Dual Speakers/MS Office 2021/1.69 Kg, 15s-eq2182AU  ',\n",
       "  'price': '₹49,990₹49,990'},\n",
       " {'heading': 'HP 255 G8 Notebook PC,AMD Ryzen 3 3250U, 15.6 inch(39.6cm) Anti-Glare HD Laptop/8GB RAM/512GB SSD/Numeric Keypad/AMD Radeon Graphics/Win 11/1.74 Kgs 689T4PA  ',\n",
       "  'price': '₹33,999₹33,999'},\n",
       " {'heading': 'HP Laptop 15s, 12th Gen Intel Core i7-1255U, 15.6 inch(39.6cm)FHD Laptop(16GB RAM,512GB SSD,Intel Iris Xe Graphics,Dual Speakers,Alexa,Numeric Keypad,Win 11,MSO 21 1.69 Kgs,Natural Silver)15s-fq5190TU  ',\n",
       "  'price': '₹69,990₹69,990'},\n",
       " {'heading': 'Dell Vostro 3510 Laptop, Intel Core i5-1135G7/ 8GB/ 1TB+256GB SSD/ 15.6\" (39.62Cms) FHD WVA AG/Backlit KB + FPR/Win 11+MSO\\'21/15 Month McAfee/Carbon/ 1.69Kgs  ',\n",
       "  'price': '₹52,490₹52,490'},\n",
       " {'heading': '(Renewed) HP Chromebook C640 10th Gen Intel Core i5 Thin & Light FHD Touchscreen Laptop (8 GB DDR4 RAM/64 GB eMMC SSD/14\" (35.6 cm) FHD/Chrome OS/WiFi/BT/Webcam/Intel Graphics)  ',\n",
       "  'price': '₹19,999₹19,999'},\n",
       " {'heading': 'Lenovo V14-ADA AMD Ryzen 3 3250U 14 inches HD Laptop (8GB/512GB SSD/Windows 11/Iron Grey), 1.85kg 1YEAR Warranty  ',\n",
       "  'price': '₹29,999₹29,999'},\n",
       " {'heading': 'HP 247 G8 Notebook PC, AMD Athlon™ Silver 3050U Processor, 14 inch(35.6cm) Anti-Glare HD Laptop/4GB RAM/256GB SSD/AMD Radeon Graphics/DOS/1.47 Kgs 796Y6PA  ',\n",
       "  'price': '₹20,029₹20,029'},\n",
       " {'heading': 'ASUS Vivobook 16 (2023), Intel Core i5-13500H 13th Gen, 16\" (40.64 cm) FHD+, Thin & Light Laptop (16GB/512GB SSD/Intel Iris Xᵉ/Win 11/Office 2021/Backlit KB/Fingerprint/Black/1.88 kg), X1605VA-MB541WS  ',\n",
       "  'price': '₹64,990₹64,990'},\n",
       " {'heading': '(Renewed) HP Chromebook 11A G6 EE 11.6 inches HD Chromebook (AMD A4-9120C/4GB/16GB eMMC/Chrome OS 64/AMD Radeon R4 Graphics),Delicate Orange - 6QG64PA, 1.27Kg  ',\n",
       "  'price': '₹10,999₹10,999'},\n",
       " {'heading': '(Renewed) DELL Latitude 5490 Core i5 7th Gen Laptop, 8 GB RAM, 256GB SSD, Intel HD Graphics, 14 inch (36.83 cms) HD Screen, Windows 11 (Upgraded), MS Office, Black, Slim  ',\n",
       "  'price': '₹22,098₹22,098'},\n",
       " {'heading': 'HP 15s, AMD Ryzen 5 5500U, 15.6 inch(39.6cm) FHD Micro-Edge Anti-Glare Laptop (8GB RAM/512 GB SSD/AMD Radeon Graphics/Win 11/MSO 21/Alexa/Dual Speakers/1.69 Kgs/Natural Silver) 15s-eq2223AU  ',\n",
       "  'price': '₹42,490₹42,490'},\n",
       " {'heading': 'Crucial BX500 240GB 3D NAND SATA 6.35 cm (2.5-inch) SSD (CT240BX500SSD1)  ',\n",
       "  'price': '₹1,407₹1,407'},\n",
       " {'heading': 'Crucial BX500 240GB 3D NAND SATA 6.35 cm (2.5-inch) SSD (CT240BX500SSD1)  ',\n",
       "  'price': '₹1,407₹1,407'},\n",
       " {'heading': 'Crucial BX500 500GB 2.5-inch SATA 3D NAND Internal SSD Upto 550 MB/s  ',\n",
       "  'price': '₹2,309₹2,309'},\n",
       " {'heading': 'Western Digital WD Green SATA 240GB, Up to 545MB/s, 2.5 Inch/7 mm, 3Y Warranty, Internal Solid State Drive (SSD) (WDS240G3G0A)  ',\n",
       "  'price': '₹1,179₹1,179'},\n",
       " {'heading': 'SanDisk 1TB Extreme Portable SSD 1050MB/s R, 1000MB/s W,Upto 2 Meter Drop Protection with IP55 Water/dust Resistance, HW Encryption, PC,MAC & TypeC Smartphone Compatible, 5Y Warranty, External SSD  ',\n",
       "  'price': '₹8,999₹8,999'},\n",
       " {'heading': 'Lenovo IdeaPad Slim 3 Intel Core i3-1115G4 11th Gen 15.6\" (39.62cm) FHD Laptop (8GB/256GB SSD/Win 11/Office 2021/2 Year Warranty/3 Month Game Pass/Arctic Grey/1.65Kg), 82H803GTIN  ',\n",
       "  'price': '₹35,990₹35,990'},\n",
       " {'heading': \"Xiaomi Notebook Pro Max 11th Gen Intel Core i5-11320H Thin & Light (16GB/512GB SSD/Iris Xe Graphics/14″ QHD+ Display/2.5K Resolution/Win 11/Thunderbolt 4/MS Office '21/Fingerprint Sensor/1.4 Kg)  \",\n",
       "  'price': '₹53,999₹53,999'},\n",
       " {'heading': 'ASUS TUF Gaming A15, 15.6-inch (39.62 cms) FHD 144Hz, AMD Ryzen 5 4600H, 4GB NVIDIA GeForce GTX 1650, Gaming Laptop (8GB/512GB SSD/Windows 11/Black/2.3 Kg), FA506IHRZ-HN111W  ',\n",
       "  'price': '₹54,990₹54,990'},\n",
       " {'heading': 'Lenovo IdeaPad Slim 3 Intel Core i3 11th Gen 14\" (35.56cm) FHD Thin & Light Laptop (8GB/512GB SSD/Windows 11/Office 2021/2Yr Warranty/3months Game Pass/Arctic Grey/1.41Kg), 82H701DNIN  ',\n",
       "  'price': '₹37,490₹37,490'},\n",
       " {'heading': None, 'price': None},\n",
       " {'heading': None, 'price': None},\n",
       " {'heading': None, 'price': None},\n",
       " {'heading': None, 'price': None}]"
      ]
     },
     "execution_count": 15,
     "metadata": {},
     "output_type": "execute_result"
    }
   ],
   "source": [
    "amazon_scraper.get_all(target, items, heading=title, price=price)"
   ]
  },
  {
   "attachments": {},
   "cell_type": "markdown",
   "metadata": {},
   "source": [
    "Third \n"
   ]
  },
  {
   "cell_type": "markdown",
   "metadata": {},
   "source": []
  },
  {
   "cell_type": "code",
   "execution_count": 16,
   "metadata": {},
   "outputs": [],
   "source": [
    "url = 'https://www.amazon.in/s?k=handbad+women&adgrpid=63509214869&ext_vrnc=hi&hvadid=379946013321&hvdev=c&hvlocphy=1007824&hvnetw=g&hvqmt=b&hvrand=1499768085078792520&hvtargid=kwd-1561702548431&hydadcr=24058_1950177&tag=googinhydr1-21&ref=pd_sl_13sw9lcmyd_b'"
   ]
  },
  {
   "cell_type": "code",
   "execution_count": 17,
   "metadata": {},
   "outputs": [],
   "source": [
    "am_sc = Scraper(url)"
   ]
  },
  {
   "cell_type": "code",
   "execution_count": null,
   "metadata": {},
   "outputs": [],
   "source": [
    "target = Tag(cls='s-main-slot s-result-list s-search-results sg-row')\n",
    "items = Tag(cls='')"
   ]
  }
 ],
 "metadata": {
  "kernelspec": {
   "display_name": "base",
   "language": "python",
   "name": "python3"
  },
  "language_info": {
   "codemirror_mode": {
    "name": "ipython",
    "version": 3
   },
   "file_extension": ".py",
   "mimetype": "text/x-python",
   "name": "python",
   "nbconvert_exporter": "python",
   "pygments_lexer": "ipython3",
   "version": "3.10.9"
  },
  "orig_nbformat": 4
 },
 "nbformat": 4,
 "nbformat_minor": 2
}
